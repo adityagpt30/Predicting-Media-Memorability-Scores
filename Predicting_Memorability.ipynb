{
  "nbformat": 4,
  "nbformat_minor": 0,
  "metadata": {
    "colab": {
      "name": "Aditya_Gupta_19210195_Predicting_Memorability.ipynb",
      "provenance": [],
      "collapsed_sections": [],
      "toc_visible": true
    },
    "kernelspec": {
      "name": "python3",
      "display_name": "Python 3"
    }
  },
  "cells": [
    {
      "cell_type": "markdown",
      "metadata": {
        "id": "p3Bs8C5ixYpa",
        "colab_type": "text"
      },
      "source": [
        "# **Predicting Video Memorability Using Features for MediaEval 2018**\n",
        "\n",
        "**Task:** This is a media analytics task in which we have to design a machine learning algorithm that will be used to predict the memorability of\n",
        "short video clips using different features available. \n",
        "\n",
        " **ABOUT THIS NOTEBOOK**\n",
        "\n",
        "\n",
        "\n",
        "PART I.   Mounting Google Drive to Notebook \n",
        "\n",
        "PART II.   Importing Libraries required for this notebook.\n",
        "\n",
        "PART III. Defining Function to calculate Spearman Coefficient Score.\n",
        "\n",
        "PART IV. Using Different Features.\n",
        "\n",
        "1.   Using Inception Features\n",
        "  *   Defining function to read the file.\n",
        "  *   Loading Features\n",
        "  *   Merging dataset with same video names.\n",
        "  *   Pre-Processing Features\n",
        "  *  **Building Sequential Neural Network Model**\n",
        "  * Visualizing the results\n",
        "  * Calculating Spearman's Correlation Coefficient\n",
        "\n",
        "2.   Using Captions Features\n",
        "  * Defining Function to load the captions into dataframes and to pre-process the dataset.\n",
        "  * Giving path to the dataset in the notebook.\n",
        "  * Cleaning Dataset \n",
        "  * Using Bag of Words for the captions\n",
        "  * Splitting Dataset into Training set and Test set.\n",
        "  * **Building the RandomForest Model**\n",
        "  * Calculating Spearman's Correlation Coefficient\n",
        "  * **Building the Support Vector Regression (SVR) Model**\n",
        "  * Calculating Spearman's Correlation Coefficient\n",
        "\n",
        "3.   Using HMP Features\n",
        "  * Defining Function to load the HMP features and to pre-process the dataset.\n",
        "  * Fetching HMP features\n",
        "  * Transforming HMP features into dataframe\n",
        "  * Merging ground_truth and HMP_features into a dataframe\n",
        "  * Creating features and Target required for the Model.\n",
        "  * **Building the Model using RandomForest Regression Model**\n",
        "  * Calculating Spearman's Correlation Coefficient\n",
        "  * **Building the Model using Decision Tree Model**\n",
        "  * Calculating Spearman's Correlation Coefficient.\n",
        "\n",
        "PART V. Choosing Perfect Model with Features.\n",
        "\n",
        "PART VI. Predicting the Results.\n",
        "\n",
        "\n",
        "\n",
        "\n"
      ]
    },
    {
      "cell_type": "markdown",
      "metadata": {
        "id": "rQir01f0M1xn",
        "colab_type": "text"
      },
      "source": [
        "# **PART I. Mounting Google Drive to Notebook**"
      ]
    },
    {
      "cell_type": "code",
      "metadata": {
        "id": "Xx9iGflW51vR",
        "colab_type": "code",
        "outputId": "62ec201c-8152-45b5-aba9-3325e4839159",
        "colab": {
          "base_uri": "https://localhost:8080/",
          "height": 129
        }
      },
      "source": [
        "from google.colab import drive\n",
        "import os\n",
        "drive.mount('/content/drive/', force_remount=True)\n",
        "os.chdir('/content/drive/My Drive/Machine Learning/Assignment Dataset/CA684_Assignment/Dev-set')"
      ],
      "execution_count": 0,
      "outputs": [
        {
          "output_type": "stream",
          "text": [
            "Go to this URL in a browser: https://accounts.google.com/o/oauth2/auth?client_id=947318989803-6bn6qk8qdgf4n4g3pfee6491hc0brc4i.apps.googleusercontent.com&redirect_uri=urn%3aietf%3awg%3aoauth%3a2.0%3aoob&response_type=code&scope=email%20https%3a%2f%2fwww.googleapis.com%2fauth%2fdocs.test%20https%3a%2f%2fwww.googleapis.com%2fauth%2fdrive%20https%3a%2f%2fwww.googleapis.com%2fauth%2fdrive.photos.readonly%20https%3a%2f%2fwww.googleapis.com%2fauth%2fpeopleapi.readonly\n",
            "\n",
            "Enter your authorization code:\n",
            "··········\n",
            "Mounted at /content/drive/\n"
          ],
          "name": "stdout"
        }
      ]
    },
    {
      "cell_type": "markdown",
      "metadata": {
        "id": "6ST9ZGvfjt_Z",
        "colab_type": "text"
      },
      "source": [
        "# **PART II. Importing Libraries required for this notebook.**"
      ]
    },
    {
      "cell_type": "code",
      "metadata": {
        "id": "VjHWWs2_5jac",
        "colab_type": "code",
        "outputId": "fbf28810-dfa6-43e6-a55a-8484695fd48e",
        "colab": {
          "base_uri": "https://localhost:8080/",
          "height": 184
        }
      },
      "source": [
        "!pip install pyprind\n",
        "import pandas as pd\n",
        "import numpy as np\n",
        "import os\n",
        "import keras\n",
        "import pyprind\n",
        "import matplotlib.pyplot as plt\n",
        "from keras.layers import Dense\n",
        "from keras.models import Sequential\n",
        "from keras.optimizers import SGD\n",
        "from sklearn.model_selection import train_test_split #To Create Test Train File\n",
        "from keras.callbacks import EarlyStopping #To Avoid Overfitting \n",
        "import glob\n",
        "from string import punctuation\n",
        "from collections import Counter\n",
        "from sklearn.model_selection import train_test_split\n",
        "import nltk\n",
        "nltk.download(\"stopwords\")"
      ],
      "execution_count": 0,
      "outputs": [
        {
          "output_type": "stream",
          "text": [
            "Collecting pyprind\n",
            "  Downloading https://files.pythonhosted.org/packages/1e/30/e76fb0c45da8aef49ea8d2a90d4e7a6877b45894c25f12fb961f009a891e/PyPrind-2.11.2-py3-none-any.whl\n",
            "Installing collected packages: pyprind\n",
            "Successfully installed pyprind-2.11.2\n"
          ],
          "name": "stdout"
        },
        {
          "output_type": "stream",
          "text": [
            "Using TensorFlow backend.\n"
          ],
          "name": "stderr"
        },
        {
          "output_type": "stream",
          "text": [
            "[nltk_data] Downloading package stopwords to /root/nltk_data...\n",
            "[nltk_data]   Unzipping corpora/stopwords.zip.\n"
          ],
          "name": "stdout"
        },
        {
          "output_type": "execute_result",
          "data": {
            "text/plain": [
              "True"
            ]
          },
          "metadata": {
            "tags": []
          },
          "execution_count": 2
        }
      ]
    },
    {
      "cell_type": "markdown",
      "metadata": {
        "id": "GqmMBq_-GKPY",
        "colab_type": "text"
      },
      "source": [
        "# **PART III. Defining Function to calculate Spearman Coefficient Score.**"
      ]
    },
    {
      "cell_type": "code",
      "metadata": {
        "id": "izkL0J7zOolc",
        "colab_type": "code",
        "colab": {}
      },
      "source": [
        "def Get_spearmann_score(Y_pred,Y_true):\n",
        "    Y_pred = np.squeeze(Y_pred)\n",
        "    Y_true = np.squeeze(Y_true)\n",
        "    if Y_pred.shape != Y_true.shape:\n",
        "        print('Input shapes mismatch!')\n",
        "    else:\n",
        "        if len(Y_pred.shape) == 1:\n",
        "            Res = pd.DataFrame({'Y_true':Y_true,'Y_pred':Y_pred})\n",
        "            score_mat = Res[['Y_true','Y_pred']].corr(method='spearman',min_periods=1)\n",
        "            print('The Spearmann\\'s correlation coefficient is: %.3f' % score_mat.iloc[1][0])\n",
        "        else:\n",
        "            for ii in range(Y_pred.shape[1]):\n",
        "                Get_spearmann_score(Y_pred[:,ii],Y_true[:,ii])"
      ],
      "execution_count": 0,
      "outputs": []
    },
    {
      "cell_type": "markdown",
      "metadata": {
        "id": "2VJZgoYmDXnQ",
        "colab_type": "text"
      },
      "source": [
        "# **PART IV. Using Different Features**"
      ]
    },
    {
      "cell_type": "markdown",
      "metadata": {
        "id": "dwzabehKDQxO",
        "colab_type": "text"
      },
      "source": [
        "# **1. Using Inception Features**\n"
      ]
    },
    {
      "cell_type": "markdown",
      "metadata": {
        "id": "xbydlyctM-nY",
        "colab_type": "text"
      },
      "source": [
        "**Defining function to read the file**"
      ]
    },
    {
      "cell_type": "code",
      "metadata": {
        "id": "TStfJY0s5tql",
        "colab_type": "code",
        "colab": {}
      },
      "source": [
        "def read_inception(fname):\n",
        "    with open(fname) as f:\n",
        "        for line in f:\n",
        "            pairs=line.split()\n",
        "            incept_temp = { int(p.split(':')[0]) : float(p.split(':')[1]) for p in pairs}\n",
        "    \n",
        "    incept = np.zeros(6075)\n",
        "    for idx in incept_temp.keys():\n",
        "        incept[idx-1] = incept_temp[idx]            \n",
        "    return incept"
      ],
      "execution_count": 0,
      "outputs": []
    },
    {
      "cell_type": "markdown",
      "metadata": {
        "id": "0AL6kzL3_LEd",
        "colab_type": "text"
      },
      "source": [
        "**Loading Features**"
      ]
    },
    {
      "cell_type": "code",
      "metadata": {
        "id": "KkMeN3pKC-sH",
        "colab_type": "code",
        "colab": {}
      },
      "source": [
        "#Load only features we required in our case it is video and the arrayInfo\n",
        "df = pd.DataFrame(columns = ['video', 'arrayInfo'])\n",
        "\n",
        "Incept_feature = '/content/drive/My Drive/Machine Learning/Assignment Dataset/CA684_Assignment/Dev-set/InceptionV3'\n",
        "\n",
        "for filename in os.listdir(Incept_feature):\n",
        "    if filename.endswith(\".txt\"):\n",
        "        path = os.path.join(Incept_feature, filename)\n",
        "        array = read_inception(path)\n",
        "        if \"-56\" in filename:\n",
        "          filename.replace('-56','')\n",
        "          fileName= filename.replace(\".txt\",\".webm\")\n",
        "          df = df.append({'video': fileName, 'arrayInfo': array}, ignore_index=True)\n",
        "    else:\n",
        "        break"
      ],
      "execution_count": 0,
      "outputs": []
    },
    {
      "cell_type": "code",
      "metadata": {
        "id": "-WdiHmqvAWuU",
        "colab_type": "code",
        "colab": {}
      },
      "source": [
        "count=0\n",
        "for item in df['video']:\n",
        "  df['video'][count]=item.replace('-56.webm','.webm')\n",
        "  count = count + 1\n",
        "  "
      ],
      "execution_count": 0,
      "outputs": []
    },
    {
      "cell_type": "markdown",
      "metadata": {
        "id": "AV2SaffpN4Cr",
        "colab_type": "text"
      },
      "source": [
        "**Merging dataset with same video names.**"
      ]
    },
    {
      "cell_type": "code",
      "metadata": {
        "id": "drtrxy2AgHsC",
        "colab_type": "code",
        "colab": {}
      },
      "source": [
        "# loading the ground truth values\n",
        "label_path = './'\n",
        "labels=pd.read_csv(label_path+'/Ground-truth/ground-truth.csv')"
      ],
      "execution_count": 0,
      "outputs": []
    },
    {
      "cell_type": "code",
      "metadata": {
        "id": "-JdDae8GEznJ",
        "colab_type": "code",
        "outputId": "a44d510b-ba69-4f5a-ff5d-316b226a48bc",
        "colab": {
          "base_uri": "https://localhost:8080/",
          "height": 363
        }
      },
      "source": [
        "df_inception = df.merge(labels,on=[\"video\"],how=\"inner\") \n",
        "df_inception.columns\n",
        "df_inception.head()"
      ],
      "execution_count": 13,
      "outputs": [
        {
          "output_type": "execute_result",
          "data": {
            "text/html": [
              "<div>\n",
              "<style scoped>\n",
              "    .dataframe tbody tr th:only-of-type {\n",
              "        vertical-align: middle;\n",
              "    }\n",
              "\n",
              "    .dataframe tbody tr th {\n",
              "        vertical-align: top;\n",
              "    }\n",
              "\n",
              "    .dataframe thead th {\n",
              "        text-align: right;\n",
              "    }\n",
              "</style>\n",
              "<table border=\"1\" class=\"dataframe\">\n",
              "  <thead>\n",
              "    <tr style=\"text-align: right;\">\n",
              "      <th></th>\n",
              "      <th>video</th>\n",
              "      <th>arrayInfo</th>\n",
              "      <th>short-term_memorability</th>\n",
              "      <th>nb_short-term_annotations</th>\n",
              "      <th>long-term_memorability</th>\n",
              "      <th>nb_long-term_annotations</th>\n",
              "    </tr>\n",
              "  </thead>\n",
              "  <tbody>\n",
              "    <tr>\n",
              "      <th>0</th>\n",
              "      <td>video7364.webm</td>\n",
              "      <td>[0.0, 0.0, 0.0, 0.0, 0.0, 0.0, 0.0, 0.0, 0.0, ...</td>\n",
              "      <td>0.891</td>\n",
              "      <td>33</td>\n",
              "      <td>0.900</td>\n",
              "      <td>10</td>\n",
              "    </tr>\n",
              "    <tr>\n",
              "      <th>1</th>\n",
              "      <td>video737.webm</td>\n",
              "      <td>[2.826083e-36, 0.0, 0.0, 0.0, 1.199688e-28, 0....</td>\n",
              "      <td>0.914</td>\n",
              "      <td>44</td>\n",
              "      <td>1.000</td>\n",
              "      <td>11</td>\n",
              "    </tr>\n",
              "    <tr>\n",
              "      <th>2</th>\n",
              "      <td>video7373.webm</td>\n",
              "      <td>[0.0, 0.0, 0.0, 0.0, 0.0, 0.0, 0.0, 0.0, 0.0, ...</td>\n",
              "      <td>0.954</td>\n",
              "      <td>31</td>\n",
              "      <td>0.917</td>\n",
              "      <td>12</td>\n",
              "    </tr>\n",
              "    <tr>\n",
              "      <th>3</th>\n",
              "      <td>video7370.webm</td>\n",
              "      <td>[2.318133e-24, 3.561454e-29, 2.048143e-24, 4.1...</td>\n",
              "      <td>0.951</td>\n",
              "      <td>33</td>\n",
              "      <td>0.938</td>\n",
              "      <td>16</td>\n",
              "    </tr>\n",
              "    <tr>\n",
              "      <th>4</th>\n",
              "      <td>video7372.webm</td>\n",
              "      <td>[1.123148e-33, 0.0, 0.0, 0.0, 5.879868e-27, 0....</td>\n",
              "      <td>0.960</td>\n",
              "      <td>47</td>\n",
              "      <td>1.000</td>\n",
              "      <td>15</td>\n",
              "    </tr>\n",
              "  </tbody>\n",
              "</table>\n",
              "</div>"
            ],
            "text/plain": [
              "            video  ... nb_long-term_annotations\n",
              "0  video7364.webm  ...                       10\n",
              "1   video737.webm  ...                       11\n",
              "2  video7373.webm  ...                       12\n",
              "3  video7370.webm  ...                       16\n",
              "4  video7372.webm  ...                       15\n",
              "\n",
              "[5 rows x 6 columns]"
            ]
          },
          "metadata": {
            "tags": []
          },
          "execution_count": 13
        }
      ]
    },
    {
      "cell_type": "markdown",
      "metadata": {
        "id": "3zVe8s3b8qyJ",
        "colab_type": "text"
      },
      "source": [
        "**Pre-Processing Features**\n",
        "\n",
        "Converting the features into Numpy Array as our Model will only accept numpy-array for features."
      ]
    },
    {
      "cell_type": "code",
      "metadata": {
        "id": "gSSC1s__GpkN",
        "colab_type": "code",
        "outputId": "44dc5821-f250-4b69-81c3-993e28d2a842",
        "colab": {
          "base_uri": "https://localhost:8080/",
          "height": 35
        }
      },
      "source": [
        "array_resulted = np.empty((0, 6075))\n",
        "array_resulted"
      ],
      "execution_count": 14,
      "outputs": [
        {
          "output_type": "execute_result",
          "data": {
            "text/plain": [
              "array([], shape=(0, 6075), dtype=float64)"
            ]
          },
          "metadata": {
            "tags": []
          },
          "execution_count": 14
        }
      ]
    },
    {
      "cell_type": "code",
      "metadata": {
        "id": "SaTBiuKlG1aj",
        "colab_type": "code",
        "colab": {}
      },
      "source": [
        "for line in df_inception['arrayInfo']:\n",
        "    array_resulted = np.append(array_resulted, np.array([line]), axis = 0)"
      ],
      "execution_count": 0,
      "outputs": []
    },
    {
      "cell_type": "code",
      "metadata": {
        "id": "S-b5V3ddzVeN",
        "colab_type": "code",
        "colab": {}
      },
      "source": [
        "arrayInfo = df_inception['arrayInfo'].values"
      ],
      "execution_count": 0,
      "outputs": []
    },
    {
      "cell_type": "code",
      "metadata": {
        "id": "CbvFQPeWFuQU",
        "colab_type": "code",
        "outputId": "1805e81e-9f6c-404e-de7d-0552e21856ae",
        "colab": {
          "base_uri": "https://localhost:8080/",
          "height": 274
        }
      },
      "source": [
        "X_arrHMP = array_resulted\n",
        "print(type(X_arrHMP))\n",
        "X_arrHMP"
      ],
      "execution_count": 17,
      "outputs": [
        {
          "output_type": "stream",
          "text": [
            "<class 'numpy.ndarray'>\n"
          ],
          "name": "stdout"
        },
        {
          "output_type": "execute_result",
          "data": {
            "text/plain": [
              "array([[0.000000e+00, 0.000000e+00, 0.000000e+00, ..., 0.000000e+00,\n",
              "        0.000000e+00, 0.000000e+00],\n",
              "       [2.826083e-36, 0.000000e+00, 0.000000e+00, ..., 0.000000e+00,\n",
              "        0.000000e+00, 0.000000e+00],\n",
              "       [0.000000e+00, 0.000000e+00, 0.000000e+00, ..., 0.000000e+00,\n",
              "        0.000000e+00, 0.000000e+00],\n",
              "       ...,\n",
              "       [0.000000e+00, 0.000000e+00, 0.000000e+00, ..., 0.000000e+00,\n",
              "        0.000000e+00, 0.000000e+00],\n",
              "       [0.000000e+00, 0.000000e+00, 0.000000e+00, ..., 0.000000e+00,\n",
              "        0.000000e+00, 0.000000e+00],\n",
              "       [0.000000e+00, 0.000000e+00, 0.000000e+00, ..., 0.000000e+00,\n",
              "        0.000000e+00, 0.000000e+00]])"
            ]
          },
          "metadata": {
            "tags": []
          },
          "execution_count": 17
        }
      ]
    },
    {
      "cell_type": "code",
      "metadata": {
        "id": "BF6FNSDjFyEi",
        "colab_type": "code",
        "colab": {}
      },
      "source": [
        "# Targets and Features\n",
        "Y=df_inception[['short-term_memorability','long-term_memorability']].values  \n",
        "X=X_arrHMP "
      ],
      "execution_count": 0,
      "outputs": []
    },
    {
      "cell_type": "code",
      "metadata": {
        "id": "MfJE7Hh_F4Hw",
        "colab_type": "code",
        "outputId": "1adafdc4-d160-47f8-d3d9-098b93eb3368",
        "colab": {
          "base_uri": "https://localhost:8080/",
          "height": 90
        }
      },
      "source": [
        "# Random state so that we can produce same results over and over again.\n",
        "X_train, X_test, Y_train, Y_test = train_test_split(X,Y, test_size=0.2, random_state=42) \n",
        "\n",
        "print('X_train', X_train.shape)\n",
        "print('X_test', X_test.shape)\n",
        "print('Y_train', Y_train.shape)\n",
        "print('Y_test', Y_test.shape)"
      ],
      "execution_count": 19,
      "outputs": [
        {
          "output_type": "stream",
          "text": [
            "X_train (4800, 6075)\n",
            "X_test (1200, 6075)\n",
            "Y_train (4800, 2)\n",
            "Y_test (1200, 2)\n"
          ],
          "name": "stdout"
        }
      ]
    },
    {
      "cell_type": "code",
      "metadata": {
        "id": "dEc7sQP1GTGT",
        "colab_type": "code",
        "outputId": "8a2f2bcb-3e87-4fa0-9069-ea7cc2adea97",
        "colab": {
          "base_uri": "https://localhost:8080/",
          "height": 35
        }
      },
      "source": [
        "n_cols = X_train.shape[1]\n",
        "n_cols"
      ],
      "execution_count": 20,
      "outputs": [
        {
          "output_type": "execute_result",
          "data": {
            "text/plain": [
              "6075"
            ]
          },
          "metadata": {
            "tags": []
          },
          "execution_count": 20
        }
      ]
    },
    {
      "cell_type": "markdown",
      "metadata": {
        "id": "FJ1T__MUOyap",
        "colab_type": "text"
      },
      "source": [
        "**Building Sequential Neural Network Model**"
      ]
    },
    {
      "cell_type": "code",
      "metadata": {
        "id": "qz4emIl3GgFh",
        "colab_type": "code",
        "colab": {}
      },
      "source": [
        "model = Sequential()\n",
        "model.add(Dense(100, activation='relu', input_shape=(n_cols,)))\n",
        "model.add(Dense(100, activation='relu'))# Second layer\n",
        "model.add(Dense(2))# Output layer"
      ],
      "execution_count": 0,
      "outputs": []
    },
    {
      "cell_type": "code",
      "metadata": {
        "id": "KOoIAjhTGlRS",
        "colab_type": "code",
        "colab": {}
      },
      "source": [
        "# Compile the model\n",
        "# We will use optimizer adam here and the metrics Accuracy.\n",
        "model.compile(optimizer='adam', loss='mean_squared_error', metrics=['accuracy']) \n",
        "   \n",
        "# Define early_stopping_monitor\n",
        "# And used EarlyStopping to avoid any overfitting. \n",
        "early_stopping_monitor = EarlyStopping(patience=2) "
      ],
      "execution_count": 0,
      "outputs": []
    },
    {
      "cell_type": "code",
      "metadata": {
        "id": "6hkAziJKG5_D",
        "colab_type": "code",
        "outputId": "3fac09db-a85f-4071-b99a-ebbe28455e59",
        "colab": {
          "base_uri": "https://localhost:8080/",
          "height": 423
        }
      },
      "source": [
        "# Fit the model\n",
        "history=model.fit(X_train, Y_train, validation_split=0.3, epochs=20, callbacks= [early_stopping_monitor])\n"
      ],
      "execution_count": 153,
      "outputs": [
        {
          "output_type": "stream",
          "text": [
            "Train on 3360 samples, validate on 1440 samples\n",
            "Epoch 1/20\n",
            "3360/3360 [==============================] - 1s 401us/step - loss: 0.1045 - accuracy: 0.6256 - val_loss: 0.0130 - val_accuracy: 0.7090\n",
            "Epoch 2/20\n",
            "3360/3360 [==============================] - 1s 368us/step - loss: 0.0135 - accuracy: 0.7030 - val_loss: 0.0129 - val_accuracy: 0.7090\n",
            "Epoch 3/20\n",
            "3360/3360 [==============================] - 1s 382us/step - loss: 0.0134 - accuracy: 0.7030 - val_loss: 0.0128 - val_accuracy: 0.7090\n",
            "Epoch 4/20\n",
            "3360/3360 [==============================] - 1s 378us/step - loss: 0.0133 - accuracy: 0.7030 - val_loss: 0.0128 - val_accuracy: 0.7090\n",
            "Epoch 5/20\n",
            "3360/3360 [==============================] - 1s 380us/step - loss: 0.0133 - accuracy: 0.7030 - val_loss: 0.0128 - val_accuracy: 0.7090\n",
            "Epoch 6/20\n",
            "3360/3360 [==============================] - 1s 381us/step - loss: 0.0133 - accuracy: 0.7030 - val_loss: 0.0130 - val_accuracy: 0.7090\n",
            "Epoch 7/20\n",
            "3360/3360 [==============================] - 1s 382us/step - loss: 0.0134 - accuracy: 0.7030 - val_loss: 0.0128 - val_accuracy: 0.7090\n",
            "Epoch 8/20\n",
            "3360/3360 [==============================] - 1s 380us/step - loss: 0.0133 - accuracy: 0.7030 - val_loss: 0.0128 - val_accuracy: 0.7090\n",
            "Epoch 9/20\n",
            "3360/3360 [==============================] - 1s 382us/step - loss: 0.0133 - accuracy: 0.7030 - val_loss: 0.0132 - val_accuracy: 0.7090\n",
            "Epoch 10/20\n",
            "3360/3360 [==============================] - 1s 378us/step - loss: 0.0134 - accuracy: 0.7030 - val_loss: 0.0129 - val_accuracy: 0.7090\n"
          ],
          "name": "stdout"
        }
      ]
    },
    {
      "cell_type": "markdown",
      "metadata": {
        "id": "9sVJVI3Fz7-Y",
        "colab_type": "text"
      },
      "source": [
        "**Visualizing the results**"
      ]
    },
    {
      "cell_type": "code",
      "metadata": {
        "id": "9CNtfXwXGZYo",
        "colab_type": "code",
        "outputId": "64c27602-6211-4a39-f238-cd6c72e105bf",
        "colab": {
          "base_uri": "https://localhost:8080/",
          "height": 295
        }
      },
      "source": [
        "loss = history.history['loss']\n",
        "val_loss = history.history['val_loss']\n",
        "epochs = range(1,len(loss)+1)\n",
        "\n",
        "plt.plot(epochs,loss,'bo',label='Loss in Training')\n",
        "plt.plot(epochs,val_loss,'b',label='Loss in Validation')\n",
        "plt.title('Training and validation loss Graph')\n",
        "plt.xlabel('No. of Epochs')\n",
        "plt.ylabel('Loss')\n",
        "plt.legend()\n",
        "plt.show()"
      ],
      "execution_count": 154,
      "outputs": [
        {
          "output_type": "display_data",
          "data": {
            "image/png": "[encoded data removed]",
            "text/plain": [
              "<Figure size 432x288 with 1 Axes>"
            ]
          },
          "metadata": {
            "tags": [],
            "needs_background": "light"
          }
        }
      ]
    },
    {
      "cell_type": "markdown",
      "metadata": {
        "id": "oKh50d3o0kR0",
        "colab_type": "text"
      },
      "source": [
        "**Calculating Spearman's Correlation Coefficient score**"
      ]
    },
    {
      "cell_type": "code",
      "metadata": {
        "id": "d8GLXfmgGj7a",
        "colab_type": "code",
        "outputId": "ab43a623-1e3d-4e92-8c6d-d50b31858060",
        "colab": {
          "base_uri": "https://localhost:8080/",
          "height": 182
        }
      },
      "source": [
        "predictions = model.predict(X_test)\n",
        "print(predictions)\n",
        "Get_spearmann_score(predictions, Y_test) "
      ],
      "execution_count": 25,
      "outputs": [
        {
          "output_type": "stream",
          "text": [
            "[[0.8390302  0.77952087]\n",
            " [0.8365354  0.8153412 ]\n",
            " [0.84984165 0.7925437 ]\n",
            " ...\n",
            " [0.8660579  0.814792  ]\n",
            " [0.8379957  0.7794547 ]\n",
            " [0.8497516  0.7951453 ]]\n",
            "The Spearmann's correlation coefficient is: 0.076\n",
            "The Spearmann's correlation coefficient is: 0.047\n"
          ],
          "name": "stdout"
        }
      ]
    },
    {
      "cell_type": "markdown",
      "metadata": {
        "id": "Hr6UssLiSZDO",
        "colab_type": "text"
      },
      "source": [
        "As we can see here using Inception Features gives us poor outcomes."
      ]
    },
    {
      "cell_type": "markdown",
      "metadata": {
        "id": "dpfZ2CKTn9VH",
        "colab_type": "text"
      },
      "source": [
        "# **2. Using Captions Features**"
      ]
    },
    {
      "cell_type": "markdown",
      "metadata": {
        "id": "1fuN29PEoaQw",
        "colab_type": "text"
      },
      "source": [
        "**Defining Function to load the captions into dataframes and to pre-process the dataset.**"
      ]
    },
    {
      "cell_type": "code",
      "metadata": {
        "id": "dXZYLNU_ocdE",
        "colab_type": "code",
        "colab": {}
      },
      "source": [
        "# Function to load captions.\n",
        "def load_captions(filename):\n",
        "    video_name = []\n",
        "    captions = []\n",
        "    dataframe = pd.DataFrame()\n",
        "    with open(filename) as file:\n",
        "        for line in file:\n",
        "            pair = line.split() #the split function used here is to divide the line into two parts because it contains two different words.\n",
        "            video_name.append(pair[0]) #First Word as Video Name\n",
        "            captions.append(pair[1]) #Second as caption of the video.\n",
        "        dataframe['video']=video_name\n",
        "        dataframe['caption']=captions\n",
        "    return dataframe"
      ],
      "execution_count": 0,
      "outputs": []
    },
    {
      "cell_type": "markdown",
      "metadata": {
        "id": "RgW5YaniopVF",
        "colab_type": "text"
      },
      "source": [
        "**Giving path to the dataset in the notebook**"
      ]
    },
    {
      "cell_type": "code",
      "metadata": {
        "id": "oxOVWef8orrl",
        "colab_type": "code",
        "colab": {}
      },
      "source": [
        "#Loading ground truth dataset\n",
        "CSV_Path ='/content/drive/My Drive/Machine Learning/Assignment Dataset/CA684_Assignment/Dev-set/Ground-truth/ground-truth.csv'\n",
        "dataset = pd.read_csv(CSV_Path)\n",
        "\n",
        "#Loading Captions\n",
        "Captions_Path ='/content/drive/My Drive/Machine Learning/Assignment Dataset/CA684_Assignment/Dev-set/Captions/dev-set_video-captions.txt'\n",
        "captions = load_captions(Captions_Path)"
      ],
      "execution_count": 0,
      "outputs": []
    },
    {
      "cell_type": "code",
      "metadata": {
        "id": "nMUyyksIovqR",
        "colab_type": "code",
        "outputId": "9601f28a-b166-4937-d8d4-ebe540aa1c1e",
        "colab": {
          "base_uri": "https://localhost:8080/",
          "height": 274
        }
      },
      "source": [
        "print(dataset)"
      ],
      "execution_count": 132,
      "outputs": [
        {
          "output_type": "stream",
          "text": [
            "               video  ...  nb_long-term_annotations\n",
            "0        video3.webm  ...                        13\n",
            "1        video4.webm  ...                        12\n",
            "2        video6.webm  ...                        10\n",
            "3        video8.webm  ...                        11\n",
            "4       video10.webm  ...                        10\n",
            "...              ...  ...                       ...\n",
            "5995  video7488.webm  ...                         9\n",
            "5996  video7489.webm  ...                        31\n",
            "5997  video7491.webm  ...                        11\n",
            "5998  video7492.webm  ...                        16\n",
            "5999  video7493.webm  ...                        13\n",
            "\n",
            "[6000 rows x 5 columns]\n"
          ],
          "name": "stdout"
        }
      ]
    },
    {
      "cell_type": "code",
      "metadata": {
        "id": "LeZpFmYwoy0q",
        "colab_type": "code",
        "outputId": "33cd2dff-23a7-4769-e92f-c032a353f539",
        "colab": {
          "base_uri": "https://localhost:8080/",
          "height": 206
        }
      },
      "source": [
        "captions.head()"
      ],
      "execution_count": 67,
      "outputs": [
        {
          "output_type": "execute_result",
          "data": {
            "text/html": [
              "<div>\n",
              "<style scoped>\n",
              "    .dataframe tbody tr th:only-of-type {\n",
              "        vertical-align: middle;\n",
              "    }\n",
              "\n",
              "    .dataframe tbody tr th {\n",
              "        vertical-align: top;\n",
              "    }\n",
              "\n",
              "    .dataframe thead th {\n",
              "        text-align: right;\n",
              "    }\n",
              "</style>\n",
              "<table border=\"1\" class=\"dataframe\">\n",
              "  <thead>\n",
              "    <tr style=\"text-align: right;\">\n",
              "      <th></th>\n",
              "      <th>video</th>\n",
              "      <th>caption</th>\n",
              "    </tr>\n",
              "  </thead>\n",
              "  <tbody>\n",
              "    <tr>\n",
              "      <th>0</th>\n",
              "      <td>video3.webm</td>\n",
              "      <td>blonde-woman-is-massaged-tilt-down</td>\n",
              "    </tr>\n",
              "    <tr>\n",
              "      <th>1</th>\n",
              "      <td>video4.webm</td>\n",
              "      <td>roulette-table-spinning-with-ball-in-closeup-shot</td>\n",
              "    </tr>\n",
              "    <tr>\n",
              "      <th>2</th>\n",
              "      <td>video6.webm</td>\n",
              "      <td>khr-gangsters</td>\n",
              "    </tr>\n",
              "    <tr>\n",
              "      <th>3</th>\n",
              "      <td>video8.webm</td>\n",
              "      <td>medical-helicopter-hovers-at-airport</td>\n",
              "    </tr>\n",
              "    <tr>\n",
              "      <th>4</th>\n",
              "      <td>video10.webm</td>\n",
              "      <td>couple-relaxing-on-picnic-crane-shot</td>\n",
              "    </tr>\n",
              "  </tbody>\n",
              "</table>\n",
              "</div>"
            ],
            "text/plain": [
              "          video                                            caption\n",
              "0   video3.webm                 blonde-woman-is-massaged-tilt-down\n",
              "1   video4.webm  roulette-table-spinning-with-ball-in-closeup-shot\n",
              "2   video6.webm                                      khr-gangsters\n",
              "3   video8.webm               medical-helicopter-hovers-at-airport\n",
              "4  video10.webm               couple-relaxing-on-picnic-crane-shot"
            ]
          },
          "metadata": {
            "tags": []
          },
          "execution_count": 67
        }
      ]
    },
    {
      "cell_type": "markdown",
      "metadata": {
        "id": "zpv5rhffo4ZW",
        "colab_type": "text"
      },
      "source": [
        "**Cleaning Dataset** \n",
        "* Remove punctutations and stopwords from captions.\n",
        "* Replace punctuation marks with white spaces.\n",
        "* Coverting words to lower case"
      ]
    },
    {
      "cell_type": "code",
      "metadata": {
        "id": "GKV9XsNIozd4",
        "colab_type": "code",
        "colab": {}
      },
      "source": [
        "# Loading the nltk stopwords of English\n",
        "stopwords = nltk.corpus.stopwords.words('english')"
      ],
      "execution_count": 0,
      "outputs": []
    },
    {
      "cell_type": "code",
      "metadata": {
        "id": "lB3EhtWqo6x-",
        "colab_type": "code",
        "outputId": "0dab2f74-0c69-43d1-8a72-db14f545127b",
        "colab": {
          "base_uri": "https://localhost:8080/",
          "height": 72
        }
      },
      "source": [
        "# Removing punctuations and stop words from captions\n",
        "ProgressBar = pyprind.ProgBar(len(captions['caption']), title='Counting words ...')\n",
        "for i, cap in enumerate(captions['caption']):\n",
        "    # Replacing punctuation marks with spaces and converting words to lower case. \n",
        "    text = ''.join([c if c not in punctuation else ' ' for c in cap]).lower()\n",
        "    # Finally removing the stopwords\n",
        "    RemovingStopwords= ' '.join([word for word in text.split() if word not in stopwords])\n",
        "    captions.loc[i,'caption'] = RemovingStopwords #updating the original captions \n",
        "    ProgressBar.update()"
      ],
      "execution_count": 69,
      "outputs": [
        {
          "output_type": "stream",
          "text": [
            "Counting words ...\n",
            "0% [##############################] 100% | ETA: 00:00:00\n",
            "Total time elapsed: 00:00:01\n"
          ],
          "name": "stderr"
        }
      ]
    },
    {
      "cell_type": "code",
      "metadata": {
        "id": "rl07v7Txo9Gx",
        "colab_type": "code",
        "outputId": "083197ed-712f-451b-db6b-58d4fa064551",
        "colab": {
          "base_uri": "https://localhost:8080/",
          "height": 206
        }
      },
      "source": [
        "captions.head()"
      ],
      "execution_count": 70,
      "outputs": [
        {
          "output_type": "execute_result",
          "data": {
            "text/html": [
              "<div>\n",
              "<style scoped>\n",
              "    .dataframe tbody tr th:only-of-type {\n",
              "        vertical-align: middle;\n",
              "    }\n",
              "\n",
              "    .dataframe tbody tr th {\n",
              "        vertical-align: top;\n",
              "    }\n",
              "\n",
              "    .dataframe thead th {\n",
              "        text-align: right;\n",
              "    }\n",
              "</style>\n",
              "<table border=\"1\" class=\"dataframe\">\n",
              "  <thead>\n",
              "    <tr style=\"text-align: right;\">\n",
              "      <th></th>\n",
              "      <th>video</th>\n",
              "      <th>caption</th>\n",
              "    </tr>\n",
              "  </thead>\n",
              "  <tbody>\n",
              "    <tr>\n",
              "      <th>0</th>\n",
              "      <td>video3.webm</td>\n",
              "      <td>blonde woman massaged tilt</td>\n",
              "    </tr>\n",
              "    <tr>\n",
              "      <th>1</th>\n",
              "      <td>video4.webm</td>\n",
              "      <td>roulette table spinning ball closeup shot</td>\n",
              "    </tr>\n",
              "    <tr>\n",
              "      <th>2</th>\n",
              "      <td>video6.webm</td>\n",
              "      <td>khr gangsters</td>\n",
              "    </tr>\n",
              "    <tr>\n",
              "      <th>3</th>\n",
              "      <td>video8.webm</td>\n",
              "      <td>medical helicopter hovers airport</td>\n",
              "    </tr>\n",
              "    <tr>\n",
              "      <th>4</th>\n",
              "      <td>video10.webm</td>\n",
              "      <td>couple relaxing picnic crane shot</td>\n",
              "    </tr>\n",
              "  </tbody>\n",
              "</table>\n",
              "</div>"
            ],
            "text/plain": [
              "          video                                    caption\n",
              "0   video3.webm                 blonde woman massaged tilt\n",
              "1   video4.webm  roulette table spinning ball closeup shot\n",
              "2   video6.webm                              khr gangsters\n",
              "3   video8.webm          medical helicopter hovers airport\n",
              "4  video10.webm          couple relaxing picnic crane shot"
            ]
          },
          "metadata": {
            "tags": []
          },
          "execution_count": 70
        }
      ]
    },
    {
      "cell_type": "markdown",
      "metadata": {
        "id": "Qog_JtJu3_T2",
        "colab_type": "text"
      },
      "source": [
        "**Using Bag of Words for the captions.**"
      ]
    },
    {
      "cell_type": "code",
      "metadata": {
        "id": "tjT_Wp1bo_5n",
        "colab_type": "code",
        "colab": {}
      },
      "source": [
        "# Using bag of words for the captions we combined\n",
        "from sklearn.feature_extraction.text import CountVectorizer\n",
        "vectorizer = CountVectorizer(analyzer = \"word\",max_features=3112) \n",
        "captions_bag = vectorizer.fit_transform(captions.caption).toarray()"
      ],
      "execution_count": 0,
      "outputs": []
    },
    {
      "cell_type": "code",
      "metadata": {
        "id": "qrzk1fd6pCJo",
        "colab_type": "code",
        "outputId": "c918ce1f-ba2a-436e-e48f-cf25f047f544",
        "colab": {
          "base_uri": "https://localhost:8080/",
          "height": 54
        }
      },
      "source": [
        "# Lets check the type of our captions_bag it should be numpy array as we converted it in previous code.\n",
        "print(type(captions_bag))\n",
        "# Shape of captions_bag it should be 2D Array.\n",
        "print(captions_bag.shape)"
      ],
      "execution_count": 72,
      "outputs": [
        {
          "output_type": "stream",
          "text": [
            "<class 'numpy.ndarray'>\n",
            "(6000, 3112)\n"
          ],
          "name": "stdout"
        }
      ]
    },
    {
      "cell_type": "code",
      "metadata": {
        "id": "tuyNNw4-pFiC",
        "colab_type": "code",
        "colab": {}
      },
      "source": [
        "X = captions_bag\n",
        "y = dataset[['short-term_memorability','long-term_memorability']].values"
      ],
      "execution_count": 0,
      "outputs": []
    },
    {
      "cell_type": "markdown",
      "metadata": {
        "id": "_iv9I_jV2XLg",
        "colab_type": "text"
      },
      "source": [
        "**Splitting Dataset into Training set and Test set.**"
      ]
    },
    {
      "cell_type": "code",
      "metadata": {
        "id": "C1bcdSlvpFqi",
        "colab_type": "code",
        "colab": {}
      },
      "source": [
        "X_train,X_test,y_train,y_test = train_test_split(X,y,test_size=0.2, random_state=42)"
      ],
      "execution_count": 0,
      "outputs": []
    },
    {
      "cell_type": "code",
      "metadata": {
        "id": "dbItpZ0wpIWe",
        "colab_type": "code",
        "outputId": "12567181-3198-489e-cecc-b585a512719d",
        "colab": {
          "base_uri": "https://localhost:8080/",
          "height": 90
        }
      },
      "source": [
        "print('X_train ', X_train.shape)\n",
        "print('X_test  ', X_test.shape)\n",
        "print('Y_train ', y_train.shape)\n",
        "print('Y_test  ', y_test.shape)"
      ],
      "execution_count": 82,
      "outputs": [
        {
          "output_type": "stream",
          "text": [
            "X_train  (4800, 3112)\n",
            "X_test   (1200, 3112)\n",
            "Y_train  (4800, 2)\n",
            "Y_test   (1200, 2)\n"
          ],
          "name": "stdout"
        }
      ]
    },
    {
      "cell_type": "markdown",
      "metadata": {
        "id": "WdxOpq5wpLei",
        "colab_type": "text"
      },
      "source": [
        "**Building the RandomForest Model**"
      ]
    },
    {
      "cell_type": "code",
      "metadata": {
        "id": "nlWqD5NwpOPs",
        "colab_type": "code",
        "outputId": "d4309878-4fcc-41e6-d666-c9b1ee2f2b0f",
        "colab": {
          "base_uri": "https://localhost:8080/",
          "height": 146
        }
      },
      "source": [
        "from sklearn.ensemble import RandomForestRegressor\n",
        "captions_rf = RandomForestRegressor(n_estimators=100)\n",
        "captions_rf.fit(X_train,y_train)\n"
      ],
      "execution_count": 83,
      "outputs": [
        {
          "output_type": "execute_result",
          "data": {
            "text/plain": [
              "RandomForestRegressor(bootstrap=True, ccp_alpha=0.0, criterion='mse',\n",
              "                      max_depth=None, max_features='auto', max_leaf_nodes=None,\n",
              "                      max_samples=None, min_impurity_decrease=0.0,\n",
              "                      min_impurity_split=None, min_samples_leaf=1,\n",
              "                      min_samples_split=2, min_weight_fraction_leaf=0.0,\n",
              "                      n_estimators=100, n_jobs=None, oob_score=False,\n",
              "                      random_state=None, verbose=0, warm_start=False)"
            ]
          },
          "metadata": {
            "tags": []
          },
          "execution_count": 83
        }
      ]
    },
    {
      "cell_type": "code",
      "metadata": {
        "id": "a3xJ6VA3pQe8",
        "colab_type": "code",
        "colab": {}
      },
      "source": [
        "# Predicting on Test Dataset.\n",
        "captions_pred = captions_rf.predict(X_test)"
      ],
      "execution_count": 0,
      "outputs": []
    },
    {
      "cell_type": "code",
      "metadata": {
        "id": "0pbJvKpUpTsC",
        "colab_type": "code",
        "outputId": "d21276b6-e87b-4dd0-dc31-44d320a57e65",
        "colab": {
          "base_uri": "https://localhost:8080/",
          "height": 297
        }
      },
      "source": [
        "t = np.arange(2400)\n",
        "plt.scatter(captions_pred,y_test, c=t, cmap='plasma', alpha=0.7)\n",
        "plt.xlabel('Predicted')\n",
        "plt.ylabel('Actual')"
      ],
      "execution_count": 85,
      "outputs": [
        {
          "output_type": "execute_result",
          "data": {
            "text/plain": [
              "Text(0, 0.5, 'Actual')"
            ]
          },
          "metadata": {
            "tags": []
          },
          "execution_count": 85
        },
        {
          "output_type": "display_data",
          "data": {
            "image/png": "[encoded data removed]",
            "text/plain": [
              "<Figure size 432x288 with 1 Axes>"
            ]
          },
          "metadata": {
            "tags": [],
            "needs_background": "light"
          }
        }
      ]
    },
    {
      "cell_type": "markdown",
      "metadata": {
        "id": "iV6vAQ2Y6EWw",
        "colab_type": "text"
      },
      "source": [
        "**Calculating Spearman's Correlation Coefficient score**"
      ]
    },
    {
      "cell_type": "code",
      "metadata": {
        "id": "cUBySwgDpVr5",
        "colab_type": "code",
        "outputId": "19d4b00c-d67d-4ee0-aee4-b6bf0b3c0e06",
        "colab": {
          "base_uri": "https://localhost:8080/",
          "height": 54
        }
      },
      "source": [
        "Get_spearmann_score(captions_pred, y_test)"
      ],
      "execution_count": 86,
      "outputs": [
        {
          "output_type": "stream",
          "text": [
            "The Spearmann's correlation coefficient is: 0.414\n",
            "The Spearmann's correlation coefficient is: 0.174\n"
          ],
          "name": "stdout"
        }
      ]
    },
    {
      "cell_type": "markdown",
      "metadata": {
        "id": "6L6xxC-YpffE",
        "colab_type": "text"
      },
      "source": [
        "**Building the Support Vector Regression (SVR) Model**"
      ]
    },
    {
      "cell_type": "code",
      "metadata": {
        "id": "Xv3VMuf1pgZP",
        "colab_type": "code",
        "colab": {}
      },
      "source": [
        "svr_X = captions_bag\n",
        "svr_y_short = dataset[['short-term_memorability']].values\n",
        "svr_y_long = dataset[['long-term_memorability']].values"
      ],
      "execution_count": 0,
      "outputs": []
    },
    {
      "cell_type": "code",
      "metadata": {
        "id": "QHeKVm4Tpoxc",
        "colab_type": "code",
        "colab": {}
      },
      "source": [
        "# Splitting the dataset into the Training set and Test set\n",
        "short_X_train,short_X_test,short_y_train,short_y_test = train_test_split(svr_X, svr_y_short)\n",
        "long_X_train,long_X_test,long_y_train,long_y_test = train_test_split(svr_X, svr_y_long)"
      ],
      "execution_count": 0,
      "outputs": []
    },
    {
      "cell_type": "markdown",
      "metadata": {
        "id": "2jeFGqVap0TM",
        "colab_type": "text"
      },
      "source": [
        "**Standard Scaler**\n",
        "Using StandardScaler to scalarize the training features into a distributed values with Standard Derivation of 1. We are using this to make the model easier to learn the features."
      ]
    },
    {
      "cell_type": "code",
      "metadata": {
        "id": "LynS-RkLp1Cz",
        "colab_type": "code",
        "colab": {}
      },
      "source": [
        "from sklearn.preprocessing import StandardScaler\n",
        "short_X = StandardScaler()\n",
        "short_y = StandardScaler()\n",
        "short_X_train = short_X.fit_transform(short_X_train)\n",
        "short_y_train = short_y.fit_transform(short_y_train)\n",
        "long_X = StandardScaler()\n",
        "long_y = StandardScaler()\n",
        "long_X_train = long_X.fit_transform(long_X_train)\n",
        "long_y_train = long_y.fit_transform(long_y_train)"
      ],
      "execution_count": 0,
      "outputs": []
    },
    {
      "cell_type": "code",
      "metadata": {
        "id": "-6xPaxXJp4Ki",
        "colab_type": "code",
        "outputId": "46d1c6ab-104e-4ca9-d878-d0e02fe20f5b",
        "colab": {
          "base_uri": "https://localhost:8080/",
          "height": 147
        }
      },
      "source": [
        "from sklearn.svm import SVR\n",
        "short_regressor = SVR(kernel = 'rbf')\n",
        "long_regressor = SVR(kernel = 'rbf')\n",
        "short_regressor.fit(short_X_train, short_y_train)\n",
        "long_regressor.fit(long_X_train,long_y_train)"
      ],
      "execution_count": 90,
      "outputs": [
        {
          "output_type": "stream",
          "text": [
            "/usr/local/lib/python3.6/dist-packages/sklearn/utils/validation.py:760: DataConversionWarning: A column-vector y was passed when a 1d array was expected. Please change the shape of y to (n_samples, ), for example using ravel().\n",
            "  y = column_or_1d(y, warn=True)\n",
            "/usr/local/lib/python3.6/dist-packages/sklearn/utils/validation.py:760: DataConversionWarning: A column-vector y was passed when a 1d array was expected. Please change the shape of y to (n_samples, ), for example using ravel().\n",
            "  y = column_or_1d(y, warn=True)\n"
          ],
          "name": "stderr"
        },
        {
          "output_type": "execute_result",
          "data": {
            "text/plain": [
              "SVR(C=1.0, cache_size=200, coef0=0.0, degree=3, epsilon=0.1, gamma='scale',\n",
              "    kernel='rbf', max_iter=-1, shrinking=True, tol=0.001, verbose=False)"
            ]
          },
          "metadata": {
            "tags": []
          },
          "execution_count": 90
        }
      ]
    },
    {
      "cell_type": "code",
      "metadata": {
        "id": "WhKOtKjCp6LM",
        "colab_type": "code",
        "colab": {}
      },
      "source": [
        "short_pred = short_regressor.predict(short_X_test)\n",
        "short_pred = short_y.inverse_transform(short_pred)\n",
        "long_pred = long_regressor.predict(long_X_test)\n",
        "long_pred = long_y.inverse_transform(long_pred)"
      ],
      "execution_count": 0,
      "outputs": []
    },
    {
      "cell_type": "markdown",
      "metadata": {
        "id": "I4ccmekr4dku",
        "colab_type": "text"
      },
      "source": [
        "**Calculating Spearman's Correlation Coefficient score**"
      ]
    },
    {
      "cell_type": "code",
      "metadata": {
        "id": "9QstiopyqDGI",
        "colab_type": "code",
        "outputId": "f9a1bd10-34e4-4c28-e71c-520652d39b5d",
        "colab": {
          "base_uri": "https://localhost:8080/",
          "height": 54
        }
      },
      "source": [
        "# Calculating Spearman's Correlation Coefficient\n",
        "Get_spearmann_score(short_pred, short_y_test)\n",
        "Get_spearmann_score(long_pred, long_y_test)"
      ],
      "execution_count": 92,
      "outputs": [
        {
          "output_type": "stream",
          "text": [
            "The Spearmann's correlation coefficient is: 0.336\n",
            "The Spearmann's correlation coefficient is: 0.173\n"
          ],
          "name": "stdout"
        }
      ]
    },
    {
      "cell_type": "markdown",
      "metadata": {
        "id": "xv1PTPCps4jw",
        "colab_type": "text"
      },
      "source": [
        "# **3. Using HMP Feature**"
      ]
    },
    {
      "cell_type": "markdown",
      "metadata": {
        "id": "AZrj3e11toGG",
        "colab_type": "text"
      },
      "source": [
        "**Defining Function to load the HMP features and to pre-process the dataset.**"
      ]
    },
    {
      "cell_type": "code",
      "metadata": {
        "id": "8BejPejIto38",
        "colab_type": "code",
        "colab": {}
      },
      "source": [
        "def read_HMP(fname):\n",
        "    with open(fname) as f:\n",
        "        for line in f:\n",
        "            pairs=line.split() # Splitting the line as it contains two different words.\n",
        "            HMP_temp = { int(p.split(':')[0]) : float(p.split(':')[1]) for p in pairs}\n",
        "    HMP = np.zeros(6075)\n",
        "    for idx in HMP_temp.keys():\n",
        "        HMP[idx-1] = HMP_temp[idx]            \n",
        "    return HMP"
      ],
      "execution_count": 0,
      "outputs": []
    },
    {
      "cell_type": "markdown",
      "metadata": {
        "id": "n2jspf9etrOw",
        "colab_type": "text"
      },
      "source": [
        "**Fetching HMP features**"
      ]
    },
    {
      "cell_type": "code",
      "metadata": {
        "id": "24tOJphstwRg",
        "colab_type": "code",
        "colab": {}
      },
      "source": [
        "HMP_feature_list= []\n",
        "video_names_list = []\n",
        "path = 'C3D/*.txt'\n",
        "for filename in glob.glob('HMP/*.txt'):\n",
        "    name = ((filename.split('/')[-1]).split('.')[0])\n",
        "    video_names_list.append(name)\n",
        "    HMP_features = read_HMP(filename)\n",
        "    HMP_feature_list.append(HMP_features)"
      ],
      "execution_count": 0,
      "outputs": []
    },
    {
      "cell_type": "markdown",
      "metadata": {
        "id": "tebu2p8Ct0I8",
        "colab_type": "text"
      },
      "source": [
        "**Transforming HMP features into dataframe**"
      ]
    },
    {
      "cell_type": "code",
      "metadata": {
        "id": "cQGfup3at1Ap",
        "colab_type": "code",
        "colab": {}
      },
      "source": [
        "HMP_features = pd.DataFrame(np.array(HMP_feature_list).reshape(6000,6075))\n",
        "HMP_features[\"video\"] = video_names_list"
      ],
      "execution_count": 0,
      "outputs": []
    },
    {
      "cell_type": "code",
      "metadata": {
        "id": "dMTmYbEBt4ot",
        "colab_type": "code",
        "outputId": "b3a8971f-7ca2-441d-9ed6-b0bca920ae8d",
        "colab": {
          "base_uri": "https://localhost:8080/",
          "height": 256
        }
      },
      "source": [
        "HMP_features.head()"
      ],
      "execution_count": 54,
      "outputs": [
        {
          "output_type": "execute_result",
          "data": {
            "text/html": [
              "<div>\n",
              "<style scoped>\n",
              "    .dataframe tbody tr th:only-of-type {\n",
              "        vertical-align: middle;\n",
              "    }\n",
              "\n",
              "    .dataframe tbody tr th {\n",
              "        vertical-align: top;\n",
              "    }\n",
              "\n",
              "    .dataframe thead th {\n",
              "        text-align: right;\n",
              "    }\n",
              "</style>\n",
              "<table border=\"1\" class=\"dataframe\">\n",
              "  <thead>\n",
              "    <tr style=\"text-align: right;\">\n",
              "      <th></th>\n",
              "      <th>0</th>\n",
              "      <th>1</th>\n",
              "      <th>2</th>\n",
              "      <th>3</th>\n",
              "      <th>4</th>\n",
              "      <th>5</th>\n",
              "      <th>6</th>\n",
              "      <th>7</th>\n",
              "      <th>8</th>\n",
              "      <th>9</th>\n",
              "      <th>10</th>\n",
              "      <th>11</th>\n",
              "      <th>12</th>\n",
              "      <th>13</th>\n",
              "      <th>14</th>\n",
              "      <th>15</th>\n",
              "      <th>16</th>\n",
              "      <th>17</th>\n",
              "      <th>18</th>\n",
              "      <th>19</th>\n",
              "      <th>20</th>\n",
              "      <th>21</th>\n",
              "      <th>22</th>\n",
              "      <th>23</th>\n",
              "      <th>24</th>\n",
              "      <th>25</th>\n",
              "      <th>26</th>\n",
              "      <th>27</th>\n",
              "      <th>28</th>\n",
              "      <th>29</th>\n",
              "      <th>30</th>\n",
              "      <th>31</th>\n",
              "      <th>32</th>\n",
              "      <th>33</th>\n",
              "      <th>34</th>\n",
              "      <th>35</th>\n",
              "      <th>36</th>\n",
              "      <th>37</th>\n",
              "      <th>38</th>\n",
              "      <th>39</th>\n",
              "      <th>...</th>\n",
              "      <th>6036</th>\n",
              "      <th>6037</th>\n",
              "      <th>6038</th>\n",
              "      <th>6039</th>\n",
              "      <th>6040</th>\n",
              "      <th>6041</th>\n",
              "      <th>6042</th>\n",
              "      <th>6043</th>\n",
              "      <th>6044</th>\n",
              "      <th>6045</th>\n",
              "      <th>6046</th>\n",
              "      <th>6047</th>\n",
              "      <th>6048</th>\n",
              "      <th>6049</th>\n",
              "      <th>6050</th>\n",
              "      <th>6051</th>\n",
              "      <th>6052</th>\n",
              "      <th>6053</th>\n",
              "      <th>6054</th>\n",
              "      <th>6055</th>\n",
              "      <th>6056</th>\n",
              "      <th>6057</th>\n",
              "      <th>6058</th>\n",
              "      <th>6059</th>\n",
              "      <th>6060</th>\n",
              "      <th>6061</th>\n",
              "      <th>6062</th>\n",
              "      <th>6063</th>\n",
              "      <th>6064</th>\n",
              "      <th>6065</th>\n",
              "      <th>6066</th>\n",
              "      <th>6067</th>\n",
              "      <th>6068</th>\n",
              "      <th>6069</th>\n",
              "      <th>6070</th>\n",
              "      <th>6071</th>\n",
              "      <th>6072</th>\n",
              "      <th>6073</th>\n",
              "      <th>6074</th>\n",
              "      <th>video</th>\n",
              "    </tr>\n",
              "  </thead>\n",
              "  <tbody>\n",
              "    <tr>\n",
              "      <th>0</th>\n",
              "      <td>0.012099</td>\n",
              "      <td>0.001466</td>\n",
              "      <td>0.000017</td>\n",
              "      <td>0.0</td>\n",
              "      <td>0.000683</td>\n",
              "      <td>0.000007</td>\n",
              "      <td>0.0</td>\n",
              "      <td>0.000000</td>\n",
              "      <td>0.000007</td>\n",
              "      <td>0.0</td>\n",
              "      <td>0.0</td>\n",
              "      <td>0.0</td>\n",
              "      <td>0.0</td>\n",
              "      <td>0.000170</td>\n",
              "      <td>0.000002</td>\n",
              "      <td>0.0</td>\n",
              "      <td>0.000002</td>\n",
              "      <td>0.000000</td>\n",
              "      <td>0.0</td>\n",
              "      <td>0.0</td>\n",
              "      <td>0.0</td>\n",
              "      <td>0.0</td>\n",
              "      <td>0.0</td>\n",
              "      <td>0.0</td>\n",
              "      <td>0.0</td>\n",
              "      <td>0.0</td>\n",
              "      <td>0.000002</td>\n",
              "      <td>0.0</td>\n",
              "      <td>0.0</td>\n",
              "      <td>0.0</td>\n",
              "      <td>0.0</td>\n",
              "      <td>0.0</td>\n",
              "      <td>0.0</td>\n",
              "      <td>0.0</td>\n",
              "      <td>0.0</td>\n",
              "      <td>0.0</td>\n",
              "      <td>0.0</td>\n",
              "      <td>0.0</td>\n",
              "      <td>0.0</td>\n",
              "      <td>0.0</td>\n",
              "      <td>...</td>\n",
              "      <td>0.000239</td>\n",
              "      <td>0.000324</td>\n",
              "      <td>0.000151</td>\n",
              "      <td>0.000106</td>\n",
              "      <td>0.000050</td>\n",
              "      <td>0.000014</td>\n",
              "      <td>0.000156</td>\n",
              "      <td>0.000123</td>\n",
              "      <td>0.000031</td>\n",
              "      <td>0.000163</td>\n",
              "      <td>0.000177</td>\n",
              "      <td>0.000097</td>\n",
              "      <td>0.000047</td>\n",
              "      <td>0.000021</td>\n",
              "      <td>0.000002</td>\n",
              "      <td>0.000019</td>\n",
              "      <td>0.000021</td>\n",
              "      <td>0.000000</td>\n",
              "      <td>0.000002</td>\n",
              "      <td>0.000009</td>\n",
              "      <td>0.000002</td>\n",
              "      <td>0.000059</td>\n",
              "      <td>0.000024</td>\n",
              "      <td>0.000007</td>\n",
              "      <td>0.000057</td>\n",
              "      <td>0.000052</td>\n",
              "      <td>0.000012</td>\n",
              "      <td>0.000026</td>\n",
              "      <td>0.000007</td>\n",
              "      <td>0.000014</td>\n",
              "      <td>0.000057</td>\n",
              "      <td>0.000028</td>\n",
              "      <td>0.000007</td>\n",
              "      <td>0.000059</td>\n",
              "      <td>0.000097</td>\n",
              "      <td>0.000012</td>\n",
              "      <td>0.000135</td>\n",
              "      <td>0.000111</td>\n",
              "      <td>0.000076</td>\n",
              "      <td>video6634</td>\n",
              "    </tr>\n",
              "    <tr>\n",
              "      <th>1</th>\n",
              "      <td>0.078170</td>\n",
              "      <td>0.013597</td>\n",
              "      <td>0.000122</td>\n",
              "      <td>0.0</td>\n",
              "      <td>0.005590</td>\n",
              "      <td>0.000074</td>\n",
              "      <td>0.0</td>\n",
              "      <td>0.000000</td>\n",
              "      <td>0.000026</td>\n",
              "      <td>0.0</td>\n",
              "      <td>0.0</td>\n",
              "      <td>0.0</td>\n",
              "      <td>0.0</td>\n",
              "      <td>0.001137</td>\n",
              "      <td>0.000017</td>\n",
              "      <td>0.0</td>\n",
              "      <td>0.000000</td>\n",
              "      <td>0.000017</td>\n",
              "      <td>0.0</td>\n",
              "      <td>0.0</td>\n",
              "      <td>0.0</td>\n",
              "      <td>0.0</td>\n",
              "      <td>0.0</td>\n",
              "      <td>0.0</td>\n",
              "      <td>0.0</td>\n",
              "      <td>0.0</td>\n",
              "      <td>0.000000</td>\n",
              "      <td>0.0</td>\n",
              "      <td>0.0</td>\n",
              "      <td>0.0</td>\n",
              "      <td>0.0</td>\n",
              "      <td>0.0</td>\n",
              "      <td>0.0</td>\n",
              "      <td>0.0</td>\n",
              "      <td>0.0</td>\n",
              "      <td>0.0</td>\n",
              "      <td>0.0</td>\n",
              "      <td>0.0</td>\n",
              "      <td>0.0</td>\n",
              "      <td>0.0</td>\n",
              "      <td>...</td>\n",
              "      <td>0.000069</td>\n",
              "      <td>0.000091</td>\n",
              "      <td>0.000026</td>\n",
              "      <td>0.000061</td>\n",
              "      <td>0.000022</td>\n",
              "      <td>0.000004</td>\n",
              "      <td>0.000091</td>\n",
              "      <td>0.000048</td>\n",
              "      <td>0.000013</td>\n",
              "      <td>0.000043</td>\n",
              "      <td>0.000095</td>\n",
              "      <td>0.000030</td>\n",
              "      <td>0.000043</td>\n",
              "      <td>0.000013</td>\n",
              "      <td>0.000000</td>\n",
              "      <td>0.000039</td>\n",
              "      <td>0.000026</td>\n",
              "      <td>0.000000</td>\n",
              "      <td>0.000009</td>\n",
              "      <td>0.000013</td>\n",
              "      <td>0.000000</td>\n",
              "      <td>0.000069</td>\n",
              "      <td>0.000026</td>\n",
              "      <td>0.000004</td>\n",
              "      <td>0.000143</td>\n",
              "      <td>0.000139</td>\n",
              "      <td>0.000009</td>\n",
              "      <td>0.000017</td>\n",
              "      <td>0.000043</td>\n",
              "      <td>0.000022</td>\n",
              "      <td>0.000043</td>\n",
              "      <td>0.000026</td>\n",
              "      <td>0.000004</td>\n",
              "      <td>0.000078</td>\n",
              "      <td>0.000074</td>\n",
              "      <td>0.000022</td>\n",
              "      <td>0.000052</td>\n",
              "      <td>0.000082</td>\n",
              "      <td>0.000061</td>\n",
              "      <td>video6633</td>\n",
              "    </tr>\n",
              "    <tr>\n",
              "      <th>2</th>\n",
              "      <td>0.112506</td>\n",
              "      <td>0.014053</td>\n",
              "      <td>0.000263</td>\n",
              "      <td>0.0</td>\n",
              "      <td>0.043205</td>\n",
              "      <td>0.000560</td>\n",
              "      <td>0.0</td>\n",
              "      <td>0.000005</td>\n",
              "      <td>0.000364</td>\n",
              "      <td>0.0</td>\n",
              "      <td>0.0</td>\n",
              "      <td>0.0</td>\n",
              "      <td>0.0</td>\n",
              "      <td>0.002472</td>\n",
              "      <td>0.000206</td>\n",
              "      <td>0.0</td>\n",
              "      <td>0.000002</td>\n",
              "      <td>0.000064</td>\n",
              "      <td>0.0</td>\n",
              "      <td>0.0</td>\n",
              "      <td>0.0</td>\n",
              "      <td>0.0</td>\n",
              "      <td>0.0</td>\n",
              "      <td>0.0</td>\n",
              "      <td>0.0</td>\n",
              "      <td>0.0</td>\n",
              "      <td>0.000000</td>\n",
              "      <td>0.0</td>\n",
              "      <td>0.0</td>\n",
              "      <td>0.0</td>\n",
              "      <td>0.0</td>\n",
              "      <td>0.0</td>\n",
              "      <td>0.0</td>\n",
              "      <td>0.0</td>\n",
              "      <td>0.0</td>\n",
              "      <td>0.0</td>\n",
              "      <td>0.0</td>\n",
              "      <td>0.0</td>\n",
              "      <td>0.0</td>\n",
              "      <td>0.0</td>\n",
              "      <td>...</td>\n",
              "      <td>0.000310</td>\n",
              "      <td>0.000629</td>\n",
              "      <td>0.000263</td>\n",
              "      <td>0.000145</td>\n",
              "      <td>0.000061</td>\n",
              "      <td>0.000002</td>\n",
              "      <td>0.000098</td>\n",
              "      <td>0.000248</td>\n",
              "      <td>0.000007</td>\n",
              "      <td>0.000125</td>\n",
              "      <td>0.000354</td>\n",
              "      <td>0.000076</td>\n",
              "      <td>0.000135</td>\n",
              "      <td>0.000049</td>\n",
              "      <td>0.000000</td>\n",
              "      <td>0.000074</td>\n",
              "      <td>0.000103</td>\n",
              "      <td>0.000000</td>\n",
              "      <td>0.000012</td>\n",
              "      <td>0.000039</td>\n",
              "      <td>0.000002</td>\n",
              "      <td>0.000066</td>\n",
              "      <td>0.000012</td>\n",
              "      <td>0.000002</td>\n",
              "      <td>0.000098</td>\n",
              "      <td>0.000221</td>\n",
              "      <td>0.000012</td>\n",
              "      <td>0.000029</td>\n",
              "      <td>0.000076</td>\n",
              "      <td>0.000022</td>\n",
              "      <td>0.000261</td>\n",
              "      <td>0.000069</td>\n",
              "      <td>0.000000</td>\n",
              "      <td>0.000157</td>\n",
              "      <td>0.000558</td>\n",
              "      <td>0.000017</td>\n",
              "      <td>0.000285</td>\n",
              "      <td>0.000504</td>\n",
              "      <td>0.000179</td>\n",
              "      <td>video6639</td>\n",
              "    </tr>\n",
              "    <tr>\n",
              "      <th>3</th>\n",
              "      <td>0.066072</td>\n",
              "      <td>0.012682</td>\n",
              "      <td>0.000283</td>\n",
              "      <td>0.0</td>\n",
              "      <td>0.006425</td>\n",
              "      <td>0.000375</td>\n",
              "      <td>0.0</td>\n",
              "      <td>0.000002</td>\n",
              "      <td>0.000174</td>\n",
              "      <td>0.0</td>\n",
              "      <td>0.0</td>\n",
              "      <td>0.0</td>\n",
              "      <td>0.0</td>\n",
              "      <td>0.002373</td>\n",
              "      <td>0.000152</td>\n",
              "      <td>0.0</td>\n",
              "      <td>0.000002</td>\n",
              "      <td>0.000102</td>\n",
              "      <td>0.0</td>\n",
              "      <td>0.0</td>\n",
              "      <td>0.0</td>\n",
              "      <td>0.0</td>\n",
              "      <td>0.0</td>\n",
              "      <td>0.0</td>\n",
              "      <td>0.0</td>\n",
              "      <td>0.0</td>\n",
              "      <td>0.000020</td>\n",
              "      <td>0.0</td>\n",
              "      <td>0.0</td>\n",
              "      <td>0.0</td>\n",
              "      <td>0.0</td>\n",
              "      <td>0.0</td>\n",
              "      <td>0.0</td>\n",
              "      <td>0.0</td>\n",
              "      <td>0.0</td>\n",
              "      <td>0.0</td>\n",
              "      <td>0.0</td>\n",
              "      <td>0.0</td>\n",
              "      <td>0.0</td>\n",
              "      <td>0.0</td>\n",
              "      <td>...</td>\n",
              "      <td>0.000278</td>\n",
              "      <td>0.000744</td>\n",
              "      <td>0.000484</td>\n",
              "      <td>0.000155</td>\n",
              "      <td>0.000077</td>\n",
              "      <td>0.000000</td>\n",
              "      <td>0.000161</td>\n",
              "      <td>0.000563</td>\n",
              "      <td>0.000084</td>\n",
              "      <td>0.000132</td>\n",
              "      <td>0.000375</td>\n",
              "      <td>0.000358</td>\n",
              "      <td>0.000227</td>\n",
              "      <td>0.000075</td>\n",
              "      <td>0.000002</td>\n",
              "      <td>0.000077</td>\n",
              "      <td>0.000135</td>\n",
              "      <td>0.000007</td>\n",
              "      <td>0.000009</td>\n",
              "      <td>0.000011</td>\n",
              "      <td>0.000007</td>\n",
              "      <td>0.000190</td>\n",
              "      <td>0.000049</td>\n",
              "      <td>0.000004</td>\n",
              "      <td>0.000305</td>\n",
              "      <td>0.001002</td>\n",
              "      <td>0.000099</td>\n",
              "      <td>0.000038</td>\n",
              "      <td>0.000106</td>\n",
              "      <td>0.000075</td>\n",
              "      <td>0.000495</td>\n",
              "      <td>0.000210</td>\n",
              "      <td>0.000002</td>\n",
              "      <td>0.000342</td>\n",
              "      <td>0.002027</td>\n",
              "      <td>0.000124</td>\n",
              "      <td>0.000307</td>\n",
              "      <td>0.001239</td>\n",
              "      <td>0.001047</td>\n",
              "      <td>video6635</td>\n",
              "    </tr>\n",
              "    <tr>\n",
              "      <th>4</th>\n",
              "      <td>0.030360</td>\n",
              "      <td>0.005834</td>\n",
              "      <td>0.000169</td>\n",
              "      <td>0.0</td>\n",
              "      <td>0.006578</td>\n",
              "      <td>0.000542</td>\n",
              "      <td>0.0</td>\n",
              "      <td>0.000016</td>\n",
              "      <td>0.000373</td>\n",
              "      <td>0.0</td>\n",
              "      <td>0.0</td>\n",
              "      <td>0.0</td>\n",
              "      <td>0.0</td>\n",
              "      <td>0.001041</td>\n",
              "      <td>0.000113</td>\n",
              "      <td>0.0</td>\n",
              "      <td>0.000007</td>\n",
              "      <td>0.000102</td>\n",
              "      <td>0.0</td>\n",
              "      <td>0.0</td>\n",
              "      <td>0.0</td>\n",
              "      <td>0.0</td>\n",
              "      <td>0.0</td>\n",
              "      <td>0.0</td>\n",
              "      <td>0.0</td>\n",
              "      <td>0.0</td>\n",
              "      <td>0.000009</td>\n",
              "      <td>0.0</td>\n",
              "      <td>0.0</td>\n",
              "      <td>0.0</td>\n",
              "      <td>0.0</td>\n",
              "      <td>0.0</td>\n",
              "      <td>0.0</td>\n",
              "      <td>0.0</td>\n",
              "      <td>0.0</td>\n",
              "      <td>0.0</td>\n",
              "      <td>0.0</td>\n",
              "      <td>0.0</td>\n",
              "      <td>0.0</td>\n",
              "      <td>0.0</td>\n",
              "      <td>...</td>\n",
              "      <td>0.000696</td>\n",
              "      <td>0.001019</td>\n",
              "      <td>0.000197</td>\n",
              "      <td>0.000239</td>\n",
              "      <td>0.000111</td>\n",
              "      <td>0.000011</td>\n",
              "      <td>0.000298</td>\n",
              "      <td>0.000389</td>\n",
              "      <td>0.000056</td>\n",
              "      <td>0.000291</td>\n",
              "      <td>0.000395</td>\n",
              "      <td>0.000090</td>\n",
              "      <td>0.000115</td>\n",
              "      <td>0.000052</td>\n",
              "      <td>0.000002</td>\n",
              "      <td>0.000054</td>\n",
              "      <td>0.000070</td>\n",
              "      <td>0.000007</td>\n",
              "      <td>0.000014</td>\n",
              "      <td>0.000041</td>\n",
              "      <td>0.000011</td>\n",
              "      <td>0.000124</td>\n",
              "      <td>0.000045</td>\n",
              "      <td>0.000005</td>\n",
              "      <td>0.000176</td>\n",
              "      <td>0.000181</td>\n",
              "      <td>0.000029</td>\n",
              "      <td>0.000052</td>\n",
              "      <td>0.000090</td>\n",
              "      <td>0.000027</td>\n",
              "      <td>0.000199</td>\n",
              "      <td>0.000061</td>\n",
              "      <td>0.000002</td>\n",
              "      <td>0.000228</td>\n",
              "      <td>0.000253</td>\n",
              "      <td>0.000023</td>\n",
              "      <td>0.000359</td>\n",
              "      <td>0.000375</td>\n",
              "      <td>0.000088</td>\n",
              "      <td>video6637</td>\n",
              "    </tr>\n",
              "  </tbody>\n",
              "</table>\n",
              "<p>5 rows × 6076 columns</p>\n",
              "</div>"
            ],
            "text/plain": [
              "          0         1         2    3  ...      6072      6073      6074      video\n",
              "0  0.012099  0.001466  0.000017  0.0  ...  0.000135  0.000111  0.000076  video6634\n",
              "1  0.078170  0.013597  0.000122  0.0  ...  0.000052  0.000082  0.000061  video6633\n",
              "2  0.112506  0.014053  0.000263  0.0  ...  0.000285  0.000504  0.000179  video6639\n",
              "3  0.066072  0.012682  0.000283  0.0  ...  0.000307  0.001239  0.001047  video6635\n",
              "4  0.030360  0.005834  0.000169  0.0  ...  0.000359  0.000375  0.000088  video6637\n",
              "\n",
              "[5 rows x 6076 columns]"
            ]
          },
          "metadata": {
            "tags": []
          },
          "execution_count": 54
        }
      ]
    },
    {
      "cell_type": "code",
      "metadata": {
        "id": "eaQRH6dmt7D4",
        "colab_type": "code",
        "colab": {}
      },
      "source": [
        "# Ground truth from drive \n",
        "ground_truth = pd.read_csv('/content/drive/My Drive/Machine Learning/Assignment Dataset/CA684_Assignment/Dev-set/Ground-truth/ground-truth.csv')"
      ],
      "execution_count": 0,
      "outputs": []
    },
    {
      "cell_type": "code",
      "metadata": {
        "id": "AQ7WlWTzt7LU",
        "colab_type": "code",
        "colab": {}
      },
      "source": [
        "# Dropping the unnecessary columns as this is of no use.\n",
        "ground_truth = ground_truth.drop(['nb_short-term_annotations', 'nb_long-term_annotations'], axis=1)"
      ],
      "execution_count": 0,
      "outputs": []
    },
    {
      "cell_type": "code",
      "metadata": {
        "id": "DdMgOys8t7Aj",
        "colab_type": "code",
        "colab": {}
      },
      "source": [
        "ground_truth['video'] = ground_truth['video'].apply(lambda x : x.split('.')[0]) #Using lambda to spit all the video test file after (.) fullstop in it."
      ],
      "execution_count": 0,
      "outputs": []
    },
    {
      "cell_type": "code",
      "metadata": {
        "id": "vbFDVkONuCA3",
        "colab_type": "code",
        "outputId": "458554ab-2ab4-4d5e-8fbc-b9609d283b47",
        "colab": {
          "base_uri": "https://localhost:8080/",
          "height": 206
        }
      },
      "source": [
        "ground_truth.head()"
      ],
      "execution_count": 58,
      "outputs": [
        {
          "output_type": "execute_result",
          "data": {
            "text/html": [
              "<div>\n",
              "<style scoped>\n",
              "    .dataframe tbody tr th:only-of-type {\n",
              "        vertical-align: middle;\n",
              "    }\n",
              "\n",
              "    .dataframe tbody tr th {\n",
              "        vertical-align: top;\n",
              "    }\n",
              "\n",
              "    .dataframe thead th {\n",
              "        text-align: right;\n",
              "    }\n",
              "</style>\n",
              "<table border=\"1\" class=\"dataframe\">\n",
              "  <thead>\n",
              "    <tr style=\"text-align: right;\">\n",
              "      <th></th>\n",
              "      <th>video</th>\n",
              "      <th>short-term_memorability</th>\n",
              "      <th>long-term_memorability</th>\n",
              "    </tr>\n",
              "  </thead>\n",
              "  <tbody>\n",
              "    <tr>\n",
              "      <th>0</th>\n",
              "      <td>video3</td>\n",
              "      <td>0.924</td>\n",
              "      <td>0.846</td>\n",
              "    </tr>\n",
              "    <tr>\n",
              "      <th>1</th>\n",
              "      <td>video4</td>\n",
              "      <td>0.923</td>\n",
              "      <td>0.667</td>\n",
              "    </tr>\n",
              "    <tr>\n",
              "      <th>2</th>\n",
              "      <td>video6</td>\n",
              "      <td>0.863</td>\n",
              "      <td>0.700</td>\n",
              "    </tr>\n",
              "    <tr>\n",
              "      <th>3</th>\n",
              "      <td>video8</td>\n",
              "      <td>0.922</td>\n",
              "      <td>0.818</td>\n",
              "    </tr>\n",
              "    <tr>\n",
              "      <th>4</th>\n",
              "      <td>video10</td>\n",
              "      <td>0.950</td>\n",
              "      <td>0.900</td>\n",
              "    </tr>\n",
              "  </tbody>\n",
              "</table>\n",
              "</div>"
            ],
            "text/plain": [
              "     video  short-term_memorability  long-term_memorability\n",
              "0   video3                    0.924                   0.846\n",
              "1   video4                    0.923                   0.667\n",
              "2   video6                    0.863                   0.700\n",
              "3   video8                    0.922                   0.818\n",
              "4  video10                    0.950                   0.900"
            ]
          },
          "metadata": {
            "tags": []
          },
          "execution_count": 58
        }
      ]
    },
    {
      "cell_type": "markdown",
      "metadata": {
        "id": "Kj_B5RXouEff",
        "colab_type": "text"
      },
      "source": [
        "**Merging ground_truth and HMP_features into a dataframe**"
      ]
    },
    {
      "cell_type": "code",
      "metadata": {
        "id": "MHmmBi_OuFQg",
        "colab_type": "code",
        "colab": {}
      },
      "source": [
        "df = pd.merge(ground_truth, HMP_features , on='video') #Merging ground_truth and HMP_Features csv file together."
      ],
      "execution_count": 0,
      "outputs": []
    },
    {
      "cell_type": "code",
      "metadata": {
        "id": "dg2v6qqIuHI9",
        "colab_type": "code",
        "outputId": "36365791-e136-4130-8b23-bf859f864651",
        "colab": {
          "base_uri": "https://localhost:8080/",
          "height": 273
        }
      },
      "source": [
        "df.head()"
      ],
      "execution_count": 60,
      "outputs": [
        {
          "output_type": "execute_result",
          "data": {
            "text/html": [
              "<div>\n",
              "<style scoped>\n",
              "    .dataframe tbody tr th:only-of-type {\n",
              "        vertical-align: middle;\n",
              "    }\n",
              "\n",
              "    .dataframe tbody tr th {\n",
              "        vertical-align: top;\n",
              "    }\n",
              "\n",
              "    .dataframe thead th {\n",
              "        text-align: right;\n",
              "    }\n",
              "</style>\n",
              "<table border=\"1\" class=\"dataframe\">\n",
              "  <thead>\n",
              "    <tr style=\"text-align: right;\">\n",
              "      <th></th>\n",
              "      <th>video</th>\n",
              "      <th>short-term_memorability</th>\n",
              "      <th>long-term_memorability</th>\n",
              "      <th>0</th>\n",
              "      <th>1</th>\n",
              "      <th>2</th>\n",
              "      <th>3</th>\n",
              "      <th>4</th>\n",
              "      <th>5</th>\n",
              "      <th>6</th>\n",
              "      <th>7</th>\n",
              "      <th>8</th>\n",
              "      <th>9</th>\n",
              "      <th>10</th>\n",
              "      <th>11</th>\n",
              "      <th>12</th>\n",
              "      <th>13</th>\n",
              "      <th>14</th>\n",
              "      <th>15</th>\n",
              "      <th>16</th>\n",
              "      <th>17</th>\n",
              "      <th>18</th>\n",
              "      <th>19</th>\n",
              "      <th>20</th>\n",
              "      <th>21</th>\n",
              "      <th>22</th>\n",
              "      <th>23</th>\n",
              "      <th>24</th>\n",
              "      <th>25</th>\n",
              "      <th>26</th>\n",
              "      <th>27</th>\n",
              "      <th>28</th>\n",
              "      <th>29</th>\n",
              "      <th>30</th>\n",
              "      <th>31</th>\n",
              "      <th>32</th>\n",
              "      <th>33</th>\n",
              "      <th>34</th>\n",
              "      <th>35</th>\n",
              "      <th>36</th>\n",
              "      <th>...</th>\n",
              "      <th>6035</th>\n",
              "      <th>6036</th>\n",
              "      <th>6037</th>\n",
              "      <th>6038</th>\n",
              "      <th>6039</th>\n",
              "      <th>6040</th>\n",
              "      <th>6041</th>\n",
              "      <th>6042</th>\n",
              "      <th>6043</th>\n",
              "      <th>6044</th>\n",
              "      <th>6045</th>\n",
              "      <th>6046</th>\n",
              "      <th>6047</th>\n",
              "      <th>6048</th>\n",
              "      <th>6049</th>\n",
              "      <th>6050</th>\n",
              "      <th>6051</th>\n",
              "      <th>6052</th>\n",
              "      <th>6053</th>\n",
              "      <th>6054</th>\n",
              "      <th>6055</th>\n",
              "      <th>6056</th>\n",
              "      <th>6057</th>\n",
              "      <th>6058</th>\n",
              "      <th>6059</th>\n",
              "      <th>6060</th>\n",
              "      <th>6061</th>\n",
              "      <th>6062</th>\n",
              "      <th>6063</th>\n",
              "      <th>6064</th>\n",
              "      <th>6065</th>\n",
              "      <th>6066</th>\n",
              "      <th>6067</th>\n",
              "      <th>6068</th>\n",
              "      <th>6069</th>\n",
              "      <th>6070</th>\n",
              "      <th>6071</th>\n",
              "      <th>6072</th>\n",
              "      <th>6073</th>\n",
              "      <th>6074</th>\n",
              "    </tr>\n",
              "  </thead>\n",
              "  <tbody>\n",
              "    <tr>\n",
              "      <th>0</th>\n",
              "      <td>video3</td>\n",
              "      <td>0.924</td>\n",
              "      <td>0.846</td>\n",
              "      <td>0.125563</td>\n",
              "      <td>0.024036</td>\n",
              "      <td>0.000314</td>\n",
              "      <td>0.0</td>\n",
              "      <td>0.015864</td>\n",
              "      <td>0.000358</td>\n",
              "      <td>0.0</td>\n",
              "      <td>0.000000</td>\n",
              "      <td>0.000086</td>\n",
              "      <td>0.0</td>\n",
              "      <td>0.0</td>\n",
              "      <td>0.0</td>\n",
              "      <td>0.0</td>\n",
              "      <td>0.002795</td>\n",
              "      <td>0.000054</td>\n",
              "      <td>0.0</td>\n",
              "      <td>0.000000</td>\n",
              "      <td>0.000037</td>\n",
              "      <td>0.0</td>\n",
              "      <td>0.0</td>\n",
              "      <td>0.0</td>\n",
              "      <td>0.0</td>\n",
              "      <td>0.0</td>\n",
              "      <td>0.0</td>\n",
              "      <td>0.0</td>\n",
              "      <td>0.0</td>\n",
              "      <td>0.000005</td>\n",
              "      <td>0.0</td>\n",
              "      <td>0.0</td>\n",
              "      <td>0.0</td>\n",
              "      <td>0.0</td>\n",
              "      <td>0.0</td>\n",
              "      <td>0.0</td>\n",
              "      <td>0.0</td>\n",
              "      <td>0.0</td>\n",
              "      <td>0.0</td>\n",
              "      <td>0.0</td>\n",
              "      <td>...</td>\n",
              "      <td>0.000002</td>\n",
              "      <td>0.000173</td>\n",
              "      <td>0.000459</td>\n",
              "      <td>0.000000</td>\n",
              "      <td>0.000148</td>\n",
              "      <td>0.000104</td>\n",
              "      <td>0.000000</td>\n",
              "      <td>0.000121</td>\n",
              "      <td>0.000551</td>\n",
              "      <td>0.000000</td>\n",
              "      <td>0.000114</td>\n",
              "      <td>0.000884</td>\n",
              "      <td>0.000002</td>\n",
              "      <td>0.000116</td>\n",
              "      <td>0.000077</td>\n",
              "      <td>0.000002</td>\n",
              "      <td>0.000027</td>\n",
              "      <td>0.000136</td>\n",
              "      <td>0.000000</td>\n",
              "      <td>0.000000</td>\n",
              "      <td>0.000002</td>\n",
              "      <td>0.000000</td>\n",
              "      <td>0.000091</td>\n",
              "      <td>0.000035</td>\n",
              "      <td>0.000000</td>\n",
              "      <td>0.000163</td>\n",
              "      <td>0.000467</td>\n",
              "      <td>0.000002</td>\n",
              "      <td>0.000010</td>\n",
              "      <td>0.000017</td>\n",
              "      <td>0.000000</td>\n",
              "      <td>0.000393</td>\n",
              "      <td>0.000279</td>\n",
              "      <td>0.000000</td>\n",
              "      <td>0.000289</td>\n",
              "      <td>0.001926</td>\n",
              "      <td>0.000000</td>\n",
              "      <td>0.000086</td>\n",
              "      <td>0.000580</td>\n",
              "      <td>0.000000</td>\n",
              "    </tr>\n",
              "    <tr>\n",
              "      <th>1</th>\n",
              "      <td>video4</td>\n",
              "      <td>0.923</td>\n",
              "      <td>0.667</td>\n",
              "      <td>0.007526</td>\n",
              "      <td>0.001421</td>\n",
              "      <td>0.000068</td>\n",
              "      <td>0.0</td>\n",
              "      <td>0.001184</td>\n",
              "      <td>0.000143</td>\n",
              "      <td>0.0</td>\n",
              "      <td>0.000000</td>\n",
              "      <td>0.000079</td>\n",
              "      <td>0.0</td>\n",
              "      <td>0.0</td>\n",
              "      <td>0.0</td>\n",
              "      <td>0.0</td>\n",
              "      <td>0.000246</td>\n",
              "      <td>0.000024</td>\n",
              "      <td>0.0</td>\n",
              "      <td>0.000000</td>\n",
              "      <td>0.000042</td>\n",
              "      <td>0.0</td>\n",
              "      <td>0.0</td>\n",
              "      <td>0.0</td>\n",
              "      <td>0.0</td>\n",
              "      <td>0.0</td>\n",
              "      <td>0.0</td>\n",
              "      <td>0.0</td>\n",
              "      <td>0.0</td>\n",
              "      <td>0.000004</td>\n",
              "      <td>0.0</td>\n",
              "      <td>0.0</td>\n",
              "      <td>0.0</td>\n",
              "      <td>0.0</td>\n",
              "      <td>0.0</td>\n",
              "      <td>0.0</td>\n",
              "      <td>0.0</td>\n",
              "      <td>0.0</td>\n",
              "      <td>0.0</td>\n",
              "      <td>0.0</td>\n",
              "      <td>...</td>\n",
              "      <td>0.000685</td>\n",
              "      <td>0.000308</td>\n",
              "      <td>0.001054</td>\n",
              "      <td>0.000751</td>\n",
              "      <td>0.000176</td>\n",
              "      <td>0.000062</td>\n",
              "      <td>0.000000</td>\n",
              "      <td>0.000123</td>\n",
              "      <td>0.000398</td>\n",
              "      <td>0.000086</td>\n",
              "      <td>0.000246</td>\n",
              "      <td>0.000433</td>\n",
              "      <td>0.000446</td>\n",
              "      <td>0.000143</td>\n",
              "      <td>0.000053</td>\n",
              "      <td>0.000000</td>\n",
              "      <td>0.000053</td>\n",
              "      <td>0.000099</td>\n",
              "      <td>0.000009</td>\n",
              "      <td>0.000004</td>\n",
              "      <td>0.000033</td>\n",
              "      <td>0.000004</td>\n",
              "      <td>0.000051</td>\n",
              "      <td>0.000035</td>\n",
              "      <td>0.000000</td>\n",
              "      <td>0.000062</td>\n",
              "      <td>0.000358</td>\n",
              "      <td>0.000035</td>\n",
              "      <td>0.000024</td>\n",
              "      <td>0.000083</td>\n",
              "      <td>0.000053</td>\n",
              "      <td>0.000244</td>\n",
              "      <td>0.000066</td>\n",
              "      <td>0.000000</td>\n",
              "      <td>0.000081</td>\n",
              "      <td>0.000617</td>\n",
              "      <td>0.000094</td>\n",
              "      <td>0.000220</td>\n",
              "      <td>0.000762</td>\n",
              "      <td>0.001224</td>\n",
              "    </tr>\n",
              "    <tr>\n",
              "      <th>2</th>\n",
              "      <td>video6</td>\n",
              "      <td>0.863</td>\n",
              "      <td>0.700</td>\n",
              "      <td>0.109584</td>\n",
              "      <td>0.018978</td>\n",
              "      <td>0.000289</td>\n",
              "      <td>0.0</td>\n",
              "      <td>0.008774</td>\n",
              "      <td>0.000208</td>\n",
              "      <td>0.0</td>\n",
              "      <td>0.000002</td>\n",
              "      <td>0.000088</td>\n",
              "      <td>0.0</td>\n",
              "      <td>0.0</td>\n",
              "      <td>0.0</td>\n",
              "      <td>0.0</td>\n",
              "      <td>0.002046</td>\n",
              "      <td>0.000061</td>\n",
              "      <td>0.0</td>\n",
              "      <td>0.000000</td>\n",
              "      <td>0.000038</td>\n",
              "      <td>0.0</td>\n",
              "      <td>0.0</td>\n",
              "      <td>0.0</td>\n",
              "      <td>0.0</td>\n",
              "      <td>0.0</td>\n",
              "      <td>0.0</td>\n",
              "      <td>0.0</td>\n",
              "      <td>0.0</td>\n",
              "      <td>0.000002</td>\n",
              "      <td>0.0</td>\n",
              "      <td>0.0</td>\n",
              "      <td>0.0</td>\n",
              "      <td>0.0</td>\n",
              "      <td>0.0</td>\n",
              "      <td>0.0</td>\n",
              "      <td>0.0</td>\n",
              "      <td>0.0</td>\n",
              "      <td>0.0</td>\n",
              "      <td>0.0</td>\n",
              "      <td>...</td>\n",
              "      <td>0.000083</td>\n",
              "      <td>0.000057</td>\n",
              "      <td>0.000158</td>\n",
              "      <td>0.000073</td>\n",
              "      <td>0.000021</td>\n",
              "      <td>0.000009</td>\n",
              "      <td>0.000002</td>\n",
              "      <td>0.000019</td>\n",
              "      <td>0.000095</td>\n",
              "      <td>0.000021</td>\n",
              "      <td>0.000019</td>\n",
              "      <td>0.000090</td>\n",
              "      <td>0.000073</td>\n",
              "      <td>0.000050</td>\n",
              "      <td>0.000024</td>\n",
              "      <td>0.000000</td>\n",
              "      <td>0.000012</td>\n",
              "      <td>0.000021</td>\n",
              "      <td>0.000000</td>\n",
              "      <td>0.000000</td>\n",
              "      <td>0.000002</td>\n",
              "      <td>0.000000</td>\n",
              "      <td>0.000017</td>\n",
              "      <td>0.000007</td>\n",
              "      <td>0.000002</td>\n",
              "      <td>0.000066</td>\n",
              "      <td>0.000203</td>\n",
              "      <td>0.000026</td>\n",
              "      <td>0.000002</td>\n",
              "      <td>0.000040</td>\n",
              "      <td>0.000007</td>\n",
              "      <td>0.000054</td>\n",
              "      <td>0.000045</td>\n",
              "      <td>0.000000</td>\n",
              "      <td>0.000028</td>\n",
              "      <td>0.000291</td>\n",
              "      <td>0.000033</td>\n",
              "      <td>0.000052</td>\n",
              "      <td>0.000258</td>\n",
              "      <td>0.000215</td>\n",
              "    </tr>\n",
              "    <tr>\n",
              "      <th>3</th>\n",
              "      <td>video8</td>\n",
              "      <td>0.922</td>\n",
              "      <td>0.818</td>\n",
              "      <td>0.120431</td>\n",
              "      <td>0.013561</td>\n",
              "      <td>0.000277</td>\n",
              "      <td>0.0</td>\n",
              "      <td>0.018974</td>\n",
              "      <td>0.000913</td>\n",
              "      <td>0.0</td>\n",
              "      <td>0.000024</td>\n",
              "      <td>0.000713</td>\n",
              "      <td>0.0</td>\n",
              "      <td>0.0</td>\n",
              "      <td>0.0</td>\n",
              "      <td>0.0</td>\n",
              "      <td>0.002496</td>\n",
              "      <td>0.000149</td>\n",
              "      <td>0.0</td>\n",
              "      <td>0.000011</td>\n",
              "      <td>0.000157</td>\n",
              "      <td>0.0</td>\n",
              "      <td>0.0</td>\n",
              "      <td>0.0</td>\n",
              "      <td>0.0</td>\n",
              "      <td>0.0</td>\n",
              "      <td>0.0</td>\n",
              "      <td>0.0</td>\n",
              "      <td>0.0</td>\n",
              "      <td>0.000005</td>\n",
              "      <td>0.0</td>\n",
              "      <td>0.0</td>\n",
              "      <td>0.0</td>\n",
              "      <td>0.0</td>\n",
              "      <td>0.0</td>\n",
              "      <td>0.0</td>\n",
              "      <td>0.0</td>\n",
              "      <td>0.0</td>\n",
              "      <td>0.0</td>\n",
              "      <td>0.0</td>\n",
              "      <td>...</td>\n",
              "      <td>0.000210</td>\n",
              "      <td>0.000434</td>\n",
              "      <td>0.000543</td>\n",
              "      <td>0.000412</td>\n",
              "      <td>0.000412</td>\n",
              "      <td>0.000045</td>\n",
              "      <td>0.000003</td>\n",
              "      <td>0.000144</td>\n",
              "      <td>0.000282</td>\n",
              "      <td>0.000037</td>\n",
              "      <td>0.000197</td>\n",
              "      <td>0.000218</td>\n",
              "      <td>0.000157</td>\n",
              "      <td>0.000237</td>\n",
              "      <td>0.000021</td>\n",
              "      <td>0.000000</td>\n",
              "      <td>0.000040</td>\n",
              "      <td>0.000056</td>\n",
              "      <td>0.000008</td>\n",
              "      <td>0.000005</td>\n",
              "      <td>0.000013</td>\n",
              "      <td>0.000019</td>\n",
              "      <td>0.000168</td>\n",
              "      <td>0.000013</td>\n",
              "      <td>0.000000</td>\n",
              "      <td>0.000133</td>\n",
              "      <td>0.000202</td>\n",
              "      <td>0.000029</td>\n",
              "      <td>0.000029</td>\n",
              "      <td>0.000035</td>\n",
              "      <td>0.000059</td>\n",
              "      <td>0.001110</td>\n",
              "      <td>0.000075</td>\n",
              "      <td>0.000008</td>\n",
              "      <td>0.000333</td>\n",
              "      <td>0.000793</td>\n",
              "      <td>0.000101</td>\n",
              "      <td>0.000588</td>\n",
              "      <td>0.000503</td>\n",
              "      <td>0.000452</td>\n",
              "    </tr>\n",
              "    <tr>\n",
              "      <th>4</th>\n",
              "      <td>video10</td>\n",
              "      <td>0.950</td>\n",
              "      <td>0.900</td>\n",
              "      <td>0.005026</td>\n",
              "      <td>0.001356</td>\n",
              "      <td>0.000055</td>\n",
              "      <td>0.0</td>\n",
              "      <td>0.000665</td>\n",
              "      <td>0.000029</td>\n",
              "      <td>0.0</td>\n",
              "      <td>0.000000</td>\n",
              "      <td>0.000024</td>\n",
              "      <td>0.0</td>\n",
              "      <td>0.0</td>\n",
              "      <td>0.0</td>\n",
              "      <td>0.0</td>\n",
              "      <td>0.000147</td>\n",
              "      <td>0.000020</td>\n",
              "      <td>0.0</td>\n",
              "      <td>0.000000</td>\n",
              "      <td>0.000000</td>\n",
              "      <td>0.0</td>\n",
              "      <td>0.0</td>\n",
              "      <td>0.0</td>\n",
              "      <td>0.0</td>\n",
              "      <td>0.0</td>\n",
              "      <td>0.0</td>\n",
              "      <td>0.0</td>\n",
              "      <td>0.0</td>\n",
              "      <td>0.000000</td>\n",
              "      <td>0.0</td>\n",
              "      <td>0.0</td>\n",
              "      <td>0.0</td>\n",
              "      <td>0.0</td>\n",
              "      <td>0.0</td>\n",
              "      <td>0.0</td>\n",
              "      <td>0.0</td>\n",
              "      <td>0.0</td>\n",
              "      <td>0.0</td>\n",
              "      <td>0.0</td>\n",
              "      <td>...</td>\n",
              "      <td>0.000160</td>\n",
              "      <td>0.000996</td>\n",
              "      <td>0.001604</td>\n",
              "      <td>0.000103</td>\n",
              "      <td>0.000768</td>\n",
              "      <td>0.000215</td>\n",
              "      <td>0.000009</td>\n",
              "      <td>0.000415</td>\n",
              "      <td>0.000926</td>\n",
              "      <td>0.000020</td>\n",
              "      <td>0.000538</td>\n",
              "      <td>0.001178</td>\n",
              "      <td>0.000050</td>\n",
              "      <td>0.000518</td>\n",
              "      <td>0.000169</td>\n",
              "      <td>0.000007</td>\n",
              "      <td>0.000134</td>\n",
              "      <td>0.000169</td>\n",
              "      <td>0.000007</td>\n",
              "      <td>0.000026</td>\n",
              "      <td>0.000046</td>\n",
              "      <td>0.000007</td>\n",
              "      <td>0.000373</td>\n",
              "      <td>0.000088</td>\n",
              "      <td>0.000000</td>\n",
              "      <td>0.000338</td>\n",
              "      <td>0.000441</td>\n",
              "      <td>0.000029</td>\n",
              "      <td>0.000070</td>\n",
              "      <td>0.000149</td>\n",
              "      <td>0.000009</td>\n",
              "      <td>0.000882</td>\n",
              "      <td>0.000200</td>\n",
              "      <td>0.000009</td>\n",
              "      <td>0.000559</td>\n",
              "      <td>0.001097</td>\n",
              "      <td>0.000018</td>\n",
              "      <td>0.000632</td>\n",
              "      <td>0.001128</td>\n",
              "      <td>0.000064</td>\n",
              "    </tr>\n",
              "  </tbody>\n",
              "</table>\n",
              "<p>5 rows × 6078 columns</p>\n",
              "</div>"
            ],
            "text/plain": [
              "     video  short-term_memorability  ...      6073      6074\n",
              "0   video3                    0.924  ...  0.000580  0.000000\n",
              "1   video4                    0.923  ...  0.000762  0.001224\n",
              "2   video6                    0.863  ...  0.000258  0.000215\n",
              "3   video8                    0.922  ...  0.000503  0.000452\n",
              "4  video10                    0.950  ...  0.001128  0.000064\n",
              "\n",
              "[5 rows x 6078 columns]"
            ]
          },
          "metadata": {
            "tags": []
          },
          "execution_count": 60
        }
      ]
    },
    {
      "cell_type": "markdown",
      "metadata": {
        "id": "t1SAqHvsuTiO",
        "colab_type": "text"
      },
      "source": [
        "**Creating features and Target required for the Model.**"
      ]
    },
    {
      "cell_type": "code",
      "metadata": {
        "id": "0lKgin5NuUYO",
        "colab_type": "code",
        "colab": {}
      },
      "source": [
        "X = df.iloc[:,3:6078].values #Features\n",
        "Y = df.iloc[:, 1:3].values #Target"
      ],
      "execution_count": 0,
      "outputs": []
    },
    {
      "cell_type": "code",
      "metadata": {
        "id": "9SODyAMxuXZE",
        "colab_type": "code",
        "colab": {}
      },
      "source": [
        "# Splitting the dataset\n",
        "from sklearn.model_selection import train_test_split\n",
        "X_train, X_test, Y_train, Y_test = train_test_split(X, Y, test_size = 0.20)"
      ],
      "execution_count": 0,
      "outputs": []
    },
    {
      "cell_type": "markdown",
      "metadata": {
        "id": "0RCeiXTTuaZL",
        "colab_type": "text"
      },
      "source": [
        "**Building the Model using RandomForest Regression Model**"
      ]
    },
    {
      "cell_type": "code",
      "metadata": {
        "id": "T8AmvAr3ubI3",
        "colab_type": "code",
        "outputId": "d383769e-a4b3-4789-efd2-65bf4d425e1d",
        "colab": {
          "base_uri": "https://localhost:8080/",
          "height": 146
        }
      },
      "source": [
        "from sklearn.ensemble import RandomForestRegressor\n",
        "regressor1 = RandomForestRegressor(n_estimators=100)\n",
        "regressor1.fit(X_train, Y_train)\n"
      ],
      "execution_count": 99,
      "outputs": [
        {
          "output_type": "execute_result",
          "data": {
            "text/plain": [
              "RandomForestRegressor(bootstrap=True, ccp_alpha=0.0, criterion='mse',\n",
              "                      max_depth=None, max_features='auto', max_leaf_nodes=None,\n",
              "                      max_samples=None, min_impurity_decrease=0.0,\n",
              "                      min_impurity_split=None, min_samples_leaf=1,\n",
              "                      min_samples_split=2, min_weight_fraction_leaf=0.0,\n",
              "                      n_estimators=100, n_jobs=None, oob_score=False,\n",
              "                      random_state=None, verbose=0, warm_start=False)"
            ]
          },
          "metadata": {
            "tags": []
          },
          "execution_count": 99
        }
      ]
    },
    {
      "cell_type": "markdown",
      "metadata": {
        "id": "Ho-Fgx_Euf80",
        "colab_type": "text"
      },
      "source": [
        "**Spearman Correlation Cofficient**\n",
        "Lets see how well and related the relationship is between the Predicted file and actual file. Spearman Score gives us the score and shows the relationship between two variables."
      ]
    },
    {
      "cell_type": "markdown",
      "metadata": {
        "id": "V0FC2Zuh8Qti",
        "colab_type": "text"
      },
      "source": [
        "**Calculating Spearman's Correlation Coefficient score**"
      ]
    },
    {
      "cell_type": "code",
      "metadata": {
        "id": "zi9ORSLIujb2",
        "colab_type": "code",
        "outputId": "d8c0d36b-466f-416f-9377-bf88ff620563",
        "colab": {
          "base_uri": "https://localhost:8080/",
          "height": 54
        }
      },
      "source": [
        "Y_pred1 = regressor1.predict(X_test)\n",
        "Get_spearmann_score(Y_pred1, Y_test)"
      ],
      "execution_count": 100,
      "outputs": [
        {
          "output_type": "stream",
          "text": [
            "The Spearmann's correlation coefficient is: 0.304\n",
            "The Spearmann's correlation coefficient is: 0.127\n"
          ],
          "name": "stdout"
        }
      ]
    },
    {
      "cell_type": "markdown",
      "metadata": {
        "id": "u7LWhw9ZXG58",
        "colab_type": "text"
      },
      "source": [
        "**Building the Model using Decision Tree Model**"
      ]
    },
    {
      "cell_type": "code",
      "metadata": {
        "id": "GUFeghcMfeYX",
        "colab_type": "code",
        "outputId": "aee48c4f-c15c-4fe3-83cf-a46eacb45440",
        "colab": {
          "base_uri": "https://localhost:8080/",
          "height": 127
        }
      },
      "source": [
        "from sklearn.tree import DecisionTreeRegressor\n",
        "regressor2 = DecisionTreeRegressor()\n",
        "regressor2.fit(X_train, Y_train)"
      ],
      "execution_count": 101,
      "outputs": [
        {
          "output_type": "execute_result",
          "data": {
            "text/plain": [
              "DecisionTreeRegressor(ccp_alpha=0.0, criterion='mse', max_depth=None,\n",
              "                      max_features=None, max_leaf_nodes=None,\n",
              "                      min_impurity_decrease=0.0, min_impurity_split=None,\n",
              "                      min_samples_leaf=1, min_samples_split=2,\n",
              "                      min_weight_fraction_leaf=0.0, presort='deprecated',\n",
              "                      random_state=None, splitter='best')"
            ]
          },
          "metadata": {
            "tags": []
          },
          "execution_count": 101
        }
      ]
    },
    {
      "cell_type": "markdown",
      "metadata": {
        "id": "PvkAUXBp8Zkt",
        "colab_type": "text"
      },
      "source": [
        "**Calculating Spearman's Correlation Coefficient score**"
      ]
    },
    {
      "cell_type": "code",
      "metadata": {
        "id": "F-ugfcyGgNEM",
        "colab_type": "code",
        "outputId": "d6fb4525-e71f-4681-c6c4-6e231c05983b",
        "colab": {
          "base_uri": "https://localhost:8080/",
          "height": 54
        }
      },
      "source": [
        "Y_pred2 = regressor2.predict(X_test)\n",
        "Get_spearmann_score(Y_pred2, Y_test)"
      ],
      "execution_count": 103,
      "outputs": [
        {
          "output_type": "stream",
          "text": [
            "The Spearmann's correlation coefficient is: 0.043\n",
            "The Spearmann's correlation coefficient is: 0.027\n"
          ],
          "name": "stdout"
        }
      ]
    },
    {
      "cell_type": "markdown",
      "metadata": {
        "id": "3Z27KRYD9NpE",
        "colab_type": "text"
      },
      "source": [
        "# **PART V. Choosing Perfect Model with Features** "
      ]
    },
    {
      "cell_type": "code",
      "metadata": {
        "id": "zlm8W1ojALSw",
        "colab_type": "code",
        "outputId": "90b79101-2868-4f14-e770-57a0af99805b",
        "colab": {
          "base_uri": "https://localhost:8080/",
          "height": 167
        }
      },
      "source": [
        "from IPython.display import Image\n",
        "Image(filename=\"/content/drive/My Drive/Machine Learning/scores.jpeg\",width=\"600\",height=\"150\")"
      ],
      "execution_count": 128,
      "outputs": [
        {
          "output_type": "execute_result",
          "data": {
            "image/jpeg": "[encoded data removed]",
            "text/plain": [
              "<IPython.core.display.Image object>"
            ]
          },
          "metadata": {
            "tags": [],
            "image/jpeg": {
              "width": "600",
              "height": "150"
            }
          },
          "execution_count": 128
        }
      ]
    },
    {
      "cell_type": "code",
      "metadata": {
        "id": "ixBFKOITASYT",
        "colab_type": "code",
        "outputId": "987be165-a9a9-4486-8775-0022ba8b1620",
        "colab": {
          "base_uri": "https://localhost:8080/",
          "height": 54
        }
      },
      "source": [
        "# Spearman's score of Captions when used with Random Forest Model\n",
        "# Using the best model i.e. Random Forest Model with n_estimators=100 in captions \n",
        "Get_spearmann_score(captions_pred, y_test)"
      ],
      "execution_count": 129,
      "outputs": [
        {
          "output_type": "stream",
          "text": [
            "The Spearmann's correlation coefficient is: 0.414\n",
            "The Spearmann's correlation coefficient is: 0.174\n"
          ],
          "name": "stdout"
        }
      ]
    },
    {
      "cell_type": "markdown",
      "metadata": {
        "id": "UHU0NY3RBBb6",
        "colab_type": "text"
      },
      "source": [
        "# **PART VI. Predicting the Final Results**"
      ]
    },
    {
      "cell_type": "markdown",
      "metadata": {
        "id": "Dx37LmbpEjVX",
        "colab_type": "text"
      },
      "source": [
        "**Building RandomForest Model and Prediction**"
      ]
    },
    {
      "cell_type": "code",
      "metadata": {
        "id": "XiFN17RtD7md",
        "colab_type": "code",
        "colab": {}
      },
      "source": [
        "X = captions_bag\n",
        "y = dataset[['short-term_memorability','long-term_memorability']].values"
      ],
      "execution_count": 0,
      "outputs": []
    },
    {
      "cell_type": "code",
      "metadata": {
        "id": "M6jeWkV9Em6z",
        "colab_type": "code",
        "outputId": "866817d0-ee70-463c-d9cd-944459c69c75",
        "colab": {
          "base_uri": "https://localhost:8080/",
          "height": 54
        }
      },
      "source": [
        "print(f'X: ({len(X)})')\n",
        "print(f'y:{y.shape}')"
      ],
      "execution_count": 106,
      "outputs": [
        {
          "output_type": "stream",
          "text": [
            "X: (6000)\n",
            "y:(6000, 2)\n"
          ],
          "name": "stdout"
        }
      ]
    },
    {
      "cell_type": "code",
      "metadata": {
        "id": "Uz_Cqo6GEnJZ",
        "colab_type": "code",
        "outputId": "695c6fd3-874c-4bdc-abf5-91efc51045d2",
        "colab": {
          "base_uri": "https://localhost:8080/",
          "height": 146
        }
      },
      "source": [
        "from sklearn.ensemble import RandomForestRegressor\n",
        "rf_regressor = RandomForestRegressor()\n",
        "rf_regressor.fit(X,y)"
      ],
      "execution_count": 107,
      "outputs": [
        {
          "output_type": "execute_result",
          "data": {
            "text/plain": [
              "RandomForestRegressor(bootstrap=True, ccp_alpha=0.0, criterion='mse',\n",
              "                      max_depth=None, max_features='auto', max_leaf_nodes=None,\n",
              "                      max_samples=None, min_impurity_decrease=0.0,\n",
              "                      min_impurity_split=None, min_samples_leaf=1,\n",
              "                      min_samples_split=2, min_weight_fraction_leaf=0.0,\n",
              "                      n_estimators=100, n_jobs=None, oob_score=False,\n",
              "                      random_state=None, verbose=0, warm_start=False)"
            ]
          },
          "metadata": {
            "tags": []
          },
          "execution_count": 107
        }
      ]
    },
    {
      "cell_type": "code",
      "metadata": {
        "id": "34JuzxS7EnF5",
        "colab_type": "code",
        "colab": {}
      },
      "source": [
        "# Loading the test set captions\n",
        " TestSet_Captions_Path ='/content/drive/My Drive/Machine Learning/Assignment Dataset/CA684_Assignment/Test-set/Captions_test/test-set-1_video-captions.txt'\n",
        " TestSet_Captions = load_captions(TestSet_Captions_Path)"
      ],
      "execution_count": 0,
      "outputs": []
    },
    {
      "cell_type": "code",
      "metadata": {
        "id": "HvaouVP0EnBx",
        "colab_type": "code",
        "outputId": "53d8eced-f04b-4fa4-a691-b278b94cfe30",
        "colab": {
          "base_uri": "https://localhost:8080/",
          "height": 206
        }
      },
      "source": [
        " TestSet_Captions.head()"
      ],
      "execution_count": 112,
      "outputs": [
        {
          "output_type": "execute_result",
          "data": {
            "text/html": [
              "<div>\n",
              "<style scoped>\n",
              "    .dataframe tbody tr th:only-of-type {\n",
              "        vertical-align: middle;\n",
              "    }\n",
              "\n",
              "    .dataframe tbody tr th {\n",
              "        vertical-align: top;\n",
              "    }\n",
              "\n",
              "    .dataframe thead th {\n",
              "        text-align: right;\n",
              "    }\n",
              "</style>\n",
              "<table border=\"1\" class=\"dataframe\">\n",
              "  <thead>\n",
              "    <tr style=\"text-align: right;\">\n",
              "      <th></th>\n",
              "      <th>video</th>\n",
              "      <th>caption</th>\n",
              "    </tr>\n",
              "  </thead>\n",
              "  <tbody>\n",
              "    <tr>\n",
              "      <th>0</th>\n",
              "      <td>video7494.webm</td>\n",
              "      <td>green-jeep-struggling-to-drive-over-huge-rocks</td>\n",
              "    </tr>\n",
              "    <tr>\n",
              "      <th>1</th>\n",
              "      <td>video7495.webm</td>\n",
              "      <td>hiking-woman-tourist-is-walking-forward-in-mou...</td>\n",
              "    </tr>\n",
              "    <tr>\n",
              "      <th>2</th>\n",
              "      <td>video7496.webm</td>\n",
              "      <td>close-up-of-african-american-doctors-hands-usi...</td>\n",
              "    </tr>\n",
              "    <tr>\n",
              "      <th>3</th>\n",
              "      <td>video7497.webm</td>\n",
              "      <td>slow-motion-of-a-man-using-treadmill-in-the-gy...</td>\n",
              "    </tr>\n",
              "    <tr>\n",
              "      <th>4</th>\n",
              "      <td>video7498.webm</td>\n",
              "      <td>slow-motion-of-photographer-in-national-park</td>\n",
              "    </tr>\n",
              "  </tbody>\n",
              "</table>\n",
              "</div>"
            ],
            "text/plain": [
              "            video                                            caption\n",
              "0  video7494.webm     green-jeep-struggling-to-drive-over-huge-rocks\n",
              "1  video7495.webm  hiking-woman-tourist-is-walking-forward-in-mou...\n",
              "2  video7496.webm  close-up-of-african-american-doctors-hands-usi...\n",
              "3  video7497.webm  slow-motion-of-a-man-using-treadmill-in-the-gy...\n",
              "4  video7498.webm       slow-motion-of-photographer-in-national-park"
            ]
          },
          "metadata": {
            "tags": []
          },
          "execution_count": 112
        }
      ]
    },
    {
      "cell_type": "code",
      "metadata": {
        "id": "Qd_lWkBXEyjV",
        "colab_type": "code",
        "outputId": "5edc6f56-af62-48da-9b44-20eeca252104",
        "colab": {
          "base_uri": "https://localhost:8080/",
          "height": 72
        }
      },
      "source": [
        "# Removing punctuations and stop words from captions (E.g.: and, or, etc.)\n",
        "# setup prograss tracker to calculate the execution time remaining.\n",
        " ProgressBar = pyprind.ProgBar(len(TestSet_Captions['caption']), title=' Counting words...')\n",
        "for i, cap in enumerate(TestSet_Captions['caption']):\n",
        "    text = ''.join([c if c not in punctuation else ' ' for c in cap]).lower()\n",
        "    # Removing stopwords for test set\n",
        "    RemovingStopwords= ' '.join([word for word in text.split() if word not in stopwords])\n",
        "    TestSet_Captions.loc[i,'caption'] = RemovingStopwords \n",
        "    ProgressBar.update() "
      ],
      "execution_count": 113,
      "outputs": [
        {
          "output_type": "stream",
          "text": [
            " Counting words...\n",
            "0% [##############################] 100% | ETA: 00:00:00\n",
            "Total time elapsed: 00:00:00\n"
          ],
          "name": "stderr"
        }
      ]
    },
    {
      "cell_type": "code",
      "metadata": {
        "id": "dkU6AE0DEyvC",
        "colab_type": "code",
        "outputId": "59092368-368d-4297-c9a7-582011eb38d8",
        "colab": {
          "base_uri": "https://localhost:8080/",
          "height": 206
        }
      },
      "source": [
        "TestSet_Captions.head()"
      ],
      "execution_count": 114,
      "outputs": [
        {
          "output_type": "execute_result",
          "data": {
            "text/html": [
              "<div>\n",
              "<style scoped>\n",
              "    .dataframe tbody tr th:only-of-type {\n",
              "        vertical-align: middle;\n",
              "    }\n",
              "\n",
              "    .dataframe tbody tr th {\n",
              "        vertical-align: top;\n",
              "    }\n",
              "\n",
              "    .dataframe thead th {\n",
              "        text-align: right;\n",
              "    }\n",
              "</style>\n",
              "<table border=\"1\" class=\"dataframe\">\n",
              "  <thead>\n",
              "    <tr style=\"text-align: right;\">\n",
              "      <th></th>\n",
              "      <th>video</th>\n",
              "      <th>caption</th>\n",
              "    </tr>\n",
              "  </thead>\n",
              "  <tbody>\n",
              "    <tr>\n",
              "      <th>0</th>\n",
              "      <td>video7494.webm</td>\n",
              "      <td>green jeep struggling drive huge rocks</td>\n",
              "    </tr>\n",
              "    <tr>\n",
              "      <th>1</th>\n",
              "      <td>video7495.webm</td>\n",
              "      <td>hiking woman tourist walking forward mountains...</td>\n",
              "    </tr>\n",
              "    <tr>\n",
              "      <th>2</th>\n",
              "      <td>video7496.webm</td>\n",
              "      <td>close african american doctors hands using sph...</td>\n",
              "    </tr>\n",
              "    <tr>\n",
              "      <th>3</th>\n",
              "      <td>video7497.webm</td>\n",
              "      <td>slow motion man using treadmill gym regular ph...</td>\n",
              "    </tr>\n",
              "    <tr>\n",
              "      <th>4</th>\n",
              "      <td>video7498.webm</td>\n",
              "      <td>slow motion photographer national park</td>\n",
              "    </tr>\n",
              "  </tbody>\n",
              "</table>\n",
              "</div>"
            ],
            "text/plain": [
              "            video                                            caption\n",
              "0  video7494.webm             green jeep struggling drive huge rocks\n",
              "1  video7495.webm  hiking woman tourist walking forward mountains...\n",
              "2  video7496.webm  close african american doctors hands using sph...\n",
              "3  video7497.webm  slow motion man using treadmill gym regular ph...\n",
              "4  video7498.webm             slow motion photographer national park"
            ]
          },
          "metadata": {
            "tags": []
          },
          "execution_count": 114
        }
      ]
    },
    {
      "cell_type": "code",
      "metadata": {
        "id": "gps4hD1_EyrX",
        "colab_type": "code",
        "outputId": "89d715e6-9e7f-46e3-c5a4-927276931047",
        "colab": {
          "base_uri": "https://localhost:8080/",
          "height": 35
        }
      },
      "source": [
        "# Implementing bag of words for the combined captions\n",
        "from sklearn.feature_extraction.text import CountVectorizer\n",
        "vectorizer = CountVectorizer(analyzer = \"word\",max_features=3122) \n",
        "TestSet_Captions_bag = vectorizer.fit_transform(TestSet_Captions.caption).toarray()\n",
        "type(TestSet_Captions_bag)"
      ],
      "execution_count": 115,
      "outputs": [
        {
          "output_type": "execute_result",
          "data": {
            "text/plain": [
              "numpy.ndarray"
            ]
          },
          "metadata": {
            "tags": []
          },
          "execution_count": 115
        }
      ]
    },
    {
      "cell_type": "code",
      "metadata": {
        "id": "pWnqzEGSE6K1",
        "colab_type": "code",
        "outputId": "df0c7b91-7c07-493b-b80d-ad157fe4175f",
        "colab": {
          "base_uri": "https://localhost:8080/",
          "height": 54
        }
      },
      "source": [
        "print(f'Development Vocabulary Size   : {len(captions_bag[0])}')\n",
        "print(f'Testing Vocabulary Size       : {len(TestSet_Captions_bag[0])}')"
      ],
      "execution_count": 116,
      "outputs": [
        {
          "output_type": "stream",
          "text": [
            "Development Vocabulary Size   : 3112\n",
            "Testing Vocabulary Size       : 3112\n"
          ],
          "name": "stdout"
        }
      ]
    },
    {
      "cell_type": "markdown",
      "metadata": {
        "id": "CQi_DYeZE_1Q",
        "colab_type": "text"
      },
      "source": [
        "**Predicting the scores on final data and Exporting the Results**"
      ]
    },
    {
      "cell_type": "code",
      "metadata": {
        "id": "FT7Tz_SSE6lb",
        "colab_type": "code",
        "colab": {}
      },
      "source": [
        "test_pred = rf_regressor.predict(TestSet_Captions_bag)"
      ],
      "execution_count": 0,
      "outputs": []
    },
    {
      "cell_type": "code",
      "metadata": {
        "id": "3d7VDM6HFFGW",
        "colab_type": "code",
        "colab": {}
      },
      "source": [
        "pred = pd.DataFrame()"
      ],
      "execution_count": 0,
      "outputs": []
    },
    {
      "cell_type": "code",
      "metadata": {
        "id": "u-hUum87FFC1",
        "colab_type": "code",
        "colab": {}
      },
      "source": [
        "pred['short-term'] = test_pred[:,0]"
      ],
      "execution_count": 0,
      "outputs": []
    },
    {
      "cell_type": "code",
      "metadata": {
        "id": "Frf7tfvjFE_E",
        "colab_type": "code",
        "colab": {}
      },
      "source": [
        "pred['long-term'] = test_pred[:,1]"
      ],
      "execution_count": 0,
      "outputs": []
    },
    {
      "cell_type": "code",
      "metadata": {
        "id": "4JAFPhuZFE6C",
        "colab_type": "code",
        "outputId": "cfba305f-542f-4943-f86b-0209d39e0104",
        "colab": {
          "base_uri": "https://localhost:8080/",
          "height": 206
        }
      },
      "source": [
        "pred.head()"
      ],
      "execution_count": 122,
      "outputs": [
        {
          "output_type": "execute_result",
          "data": {
            "text/html": [
              "<div>\n",
              "<style scoped>\n",
              "    .dataframe tbody tr th:only-of-type {\n",
              "        vertical-align: middle;\n",
              "    }\n",
              "\n",
              "    .dataframe tbody tr th {\n",
              "        vertical-align: top;\n",
              "    }\n",
              "\n",
              "    .dataframe thead th {\n",
              "        text-align: right;\n",
              "    }\n",
              "</style>\n",
              "<table border=\"1\" class=\"dataframe\">\n",
              "  <thead>\n",
              "    <tr style=\"text-align: right;\">\n",
              "      <th></th>\n",
              "      <th>short-term</th>\n",
              "      <th>long-term</th>\n",
              "    </tr>\n",
              "  </thead>\n",
              "  <tbody>\n",
              "    <tr>\n",
              "      <th>0</th>\n",
              "      <td>0.854338</td>\n",
              "      <td>0.741889</td>\n",
              "    </tr>\n",
              "    <tr>\n",
              "      <th>1</th>\n",
              "      <td>0.891458</td>\n",
              "      <td>0.805723</td>\n",
              "    </tr>\n",
              "    <tr>\n",
              "      <th>2</th>\n",
              "      <td>0.821762</td>\n",
              "      <td>0.759397</td>\n",
              "    </tr>\n",
              "    <tr>\n",
              "      <th>3</th>\n",
              "      <td>0.917545</td>\n",
              "      <td>0.801524</td>\n",
              "    </tr>\n",
              "    <tr>\n",
              "      <th>4</th>\n",
              "      <td>0.862892</td>\n",
              "      <td>0.713907</td>\n",
              "    </tr>\n",
              "  </tbody>\n",
              "</table>\n",
              "</div>"
            ],
            "text/plain": [
              "   short-term  long-term\n",
              "0    0.854338   0.741889\n",
              "1    0.891458   0.805723\n",
              "2    0.821762   0.759397\n",
              "3    0.917545   0.801524\n",
              "4    0.862892   0.713907"
            ]
          },
          "metadata": {
            "tags": []
          },
          "execution_count": 122
        }
      ]
    },
    {
      "cell_type": "code",
      "metadata": {
        "id": "fei4AHq8FE0T",
        "colab_type": "code",
        "outputId": "2a237324-ed13-4902-fd25-fafee41909dc",
        "colab": {
          "base_uri": "https://localhost:8080/",
          "height": 300
        }
      },
      "source": [
        "pred.describe()"
      ],
      "execution_count": 123,
      "outputs": [
        {
          "output_type": "execute_result",
          "data": {
            "text/html": [
              "<div>\n",
              "<style scoped>\n",
              "    .dataframe tbody tr th:only-of-type {\n",
              "        vertical-align: middle;\n",
              "    }\n",
              "\n",
              "    .dataframe tbody tr th {\n",
              "        vertical-align: top;\n",
              "    }\n",
              "\n",
              "    .dataframe thead th {\n",
              "        text-align: right;\n",
              "    }\n",
              "</style>\n",
              "<table border=\"1\" class=\"dataframe\">\n",
              "  <thead>\n",
              "    <tr style=\"text-align: right;\">\n",
              "      <th></th>\n",
              "      <th>short-term</th>\n",
              "      <th>long-term</th>\n",
              "    </tr>\n",
              "  </thead>\n",
              "  <tbody>\n",
              "    <tr>\n",
              "      <th>count</th>\n",
              "      <td>2000.000000</td>\n",
              "      <td>2000.000000</td>\n",
              "    </tr>\n",
              "    <tr>\n",
              "      <th>mean</th>\n",
              "      <td>0.847407</td>\n",
              "      <td>0.753607</td>\n",
              "    </tr>\n",
              "    <tr>\n",
              "      <th>std</th>\n",
              "      <td>0.033486</td>\n",
              "      <td>0.068031</td>\n",
              "    </tr>\n",
              "    <tr>\n",
              "      <th>min</th>\n",
              "      <td>0.685295</td>\n",
              "      <td>0.443260</td>\n",
              "    </tr>\n",
              "    <tr>\n",
              "      <th>25%</th>\n",
              "      <td>0.830299</td>\n",
              "      <td>0.722987</td>\n",
              "    </tr>\n",
              "    <tr>\n",
              "      <th>50%</th>\n",
              "      <td>0.849766</td>\n",
              "      <td>0.758861</td>\n",
              "    </tr>\n",
              "    <tr>\n",
              "      <th>75%</th>\n",
              "      <td>0.869481</td>\n",
              "      <td>0.795832</td>\n",
              "    </tr>\n",
              "    <tr>\n",
              "      <th>max</th>\n",
              "      <td>0.952947</td>\n",
              "      <td>0.946862</td>\n",
              "    </tr>\n",
              "  </tbody>\n",
              "</table>\n",
              "</div>"
            ],
            "text/plain": [
              "        short-term    long-term\n",
              "count  2000.000000  2000.000000\n",
              "mean      0.847407     0.753607\n",
              "std       0.033486     0.068031\n",
              "min       0.685295     0.443260\n",
              "25%       0.830299     0.722987\n",
              "50%       0.849766     0.758861\n",
              "75%       0.869481     0.795832\n",
              "max       0.952947     0.946862"
            ]
          },
          "metadata": {
            "tags": []
          },
          "execution_count": 123
        }
      ]
    },
    {
      "cell_type": "code",
      "metadata": {
        "id": "gwQBsdnlt4dL",
        "colab_type": "code",
        "colab": {}
      },
      "source": [
        "pred.to_csv(\"/content/Results.csv\",index=False) #We don't need index as it is not required.\n",
        "from google.colab import files\n",
        "files.download(\"/content/Results.csv\") "
      ],
      "execution_count": 0,
      "outputs": []
    },
    {
      "cell_type": "code",
      "metadata": {
        "id": "N60pan_RuWR0",
        "colab_type": "code",
        "outputId": "ceac36e9-057e-471b-dab7-48b0b4d8a42f",
        "colab": {
          "base_uri": "https://localhost:8080/",
          "height": 206
        }
      },
      "source": [
        "submission = pd.read_csv('/content/Results.csv')\n",
        "submission.head()"
      ],
      "execution_count": 125,
      "outputs": [
        {
          "output_type": "execute_result",
          "data": {
            "text/html": [
              "<div>\n",
              "<style scoped>\n",
              "    .dataframe tbody tr th:only-of-type {\n",
              "        vertical-align: middle;\n",
              "    }\n",
              "\n",
              "    .dataframe tbody tr th {\n",
              "        vertical-align: top;\n",
              "    }\n",
              "\n",
              "    .dataframe thead th {\n",
              "        text-align: right;\n",
              "    }\n",
              "</style>\n",
              "<table border=\"1\" class=\"dataframe\">\n",
              "  <thead>\n",
              "    <tr style=\"text-align: right;\">\n",
              "      <th></th>\n",
              "      <th>short-term</th>\n",
              "      <th>long-term</th>\n",
              "    </tr>\n",
              "  </thead>\n",
              "  <tbody>\n",
              "    <tr>\n",
              "      <th>0</th>\n",
              "      <td>0.854338</td>\n",
              "      <td>0.741889</td>\n",
              "    </tr>\n",
              "    <tr>\n",
              "      <th>1</th>\n",
              "      <td>0.891458</td>\n",
              "      <td>0.805723</td>\n",
              "    </tr>\n",
              "    <tr>\n",
              "      <th>2</th>\n",
              "      <td>0.821762</td>\n",
              "      <td>0.759397</td>\n",
              "    </tr>\n",
              "    <tr>\n",
              "      <th>3</th>\n",
              "      <td>0.917545</td>\n",
              "      <td>0.801524</td>\n",
              "    </tr>\n",
              "    <tr>\n",
              "      <th>4</th>\n",
              "      <td>0.862892</td>\n",
              "      <td>0.713907</td>\n",
              "    </tr>\n",
              "  </tbody>\n",
              "</table>\n",
              "</div>"
            ],
            "text/plain": [
              "   short-term  long-term\n",
              "0    0.854338   0.741889\n",
              "1    0.891458   0.805723\n",
              "2    0.821762   0.759397\n",
              "3    0.917545   0.801524\n",
              "4    0.862892   0.713907"
            ]
          },
          "metadata": {
            "tags": []
          },
          "execution_count": 125
        }
      ]
    }
  ]
}